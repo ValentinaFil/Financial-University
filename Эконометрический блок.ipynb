{
 "cells": [
  {
   "cell_type": "code",
   "execution_count": 1,
   "metadata": {},
   "outputs": [],
   "source": [
    "import pandas as pd\n",
    "import matplotlib.pyplot as plt\n",
    "import seaborn as sns\n",
    "import numpy as np\n",
    "from statsmodels.regression.linear_model import OLS\n",
    "from statsmodels.stats.outliers_influence import variance_inflation_factor\n",
    "from scipy.stats import shapiro \n",
    "from scipy.stats import lognorm\n",
    "from scipy import stats\n",
    "from statsmodels.tsa.stattools import adfuller\n",
    "from scipy.stats import norm, lognorm, expon, t, f, beta, pareto, chi2, rayleigh, gamma\n",
    "from statsmodels.tsa.stattools import acf\n",
    "from scipy.stats import median_test\n",
    "from scipy.stats import ttest_ind\n",
    "from statsmodels.tsa.arima.model import ARIMA\n",
    "from scipy.optimize import curve_fit\n",
    "import itertools\n",
    "from pandas import Series\n",
    "from statsmodels.graphics.tsaplots import plot_acf, plot_pacf \n",
    "import matplotlib.pyplot as plt\n",
    "import arch\n",
    "import pmdarima as pm\n",
    "from pmdarima.arima import auto_arima\n",
    "import pandas_datareader as pdr\n",
    "import datetime\n",
    "from statsmodels.tsa.statespace.sarimax import SARIMAX"
   ]
  },
  {
   "cell_type": "markdown",
   "metadata": {},
   "source": [
    "### I. Импорт данных\n",
    "\n",
    "Импортируем данные, полученных в результате предобработки датасетов"
   ]
  },
  {
   "cell_type": "code",
   "execution_count": 2,
   "metadata": {},
   "outputs": [],
   "source": [
    "df = pd.read_excel('df_import.xlsx', index_col ='Год')\n",
    "df28_40 = pd.read_excel('df28_40_import.xlsx', index_col ='Год')\n",
    "df50_67 = pd.read_excel('df50_67_import.xlsx', index_col ='Год')\n",
    "df72_83 = pd.read_excel('df72_83_import.xlsx', index_col ='Год')"
   ]
  },
  {
   "cell_type": "code",
   "execution_count": 3,
   "metadata": {},
   "outputs": [
    {
     "data": {
      "text/html": [
       "<div>\n",
       "<style scoped>\n",
       "    .dataframe tbody tr th:only-of-type {\n",
       "        vertical-align: middle;\n",
       "    }\n",
       "\n",
       "    .dataframe tbody tr th {\n",
       "        vertical-align: top;\n",
       "    }\n",
       "\n",
       "    .dataframe thead th {\n",
       "        text-align: right;\n",
       "    }\n",
       "</style>\n",
       "<table border=\"1\" class=\"dataframe\">\n",
       "  <thead>\n",
       "    <tr style=\"text-align: right;\">\n",
       "      <th></th>\n",
       "      <th>Импорт России важнейших товаров, млн долл США</th>\n",
       "      <th>Оборот средних организаций по субъектам РФ, млрд. руб.</th>\n",
       "      <th>Индекс промышленного производства, в%</th>\n",
       "      <th>Средняя доля импорта отдельных товаров в их товарных ресурсах</th>\n",
       "    </tr>\n",
       "    <tr>\n",
       "      <th>Год</th>\n",
       "      <th></th>\n",
       "      <th></th>\n",
       "      <th></th>\n",
       "      <th></th>\n",
       "    </tr>\n",
       "  </thead>\n",
       "  <tbody>\n",
       "    <tr>\n",
       "      <th>2011</th>\n",
       "      <td>14267.700000</td>\n",
       "      <td>3925.6</td>\n",
       "      <td>105.0</td>\n",
       "      <td>23.414286</td>\n",
       "    </tr>\n",
       "    <tr>\n",
       "      <th>2012</th>\n",
       "      <td>15562.984615</td>\n",
       "      <td>4136.1</td>\n",
       "      <td>109.0</td>\n",
       "      <td>24.328571</td>\n",
       "    </tr>\n",
       "    <tr>\n",
       "      <th>2013</th>\n",
       "      <td>15495.900000</td>\n",
       "      <td>4295.9</td>\n",
       "      <td>109.0</td>\n",
       "      <td>24.221429</td>\n",
       "    </tr>\n",
       "    <tr>\n",
       "      <th>2014</th>\n",
       "      <td>13751.823077</td>\n",
       "      <td>4515.8</td>\n",
       "      <td>112.0</td>\n",
       "      <td>19.492857</td>\n",
       "    </tr>\n",
       "    <tr>\n",
       "      <th>2015</th>\n",
       "      <td>8352.330769</td>\n",
       "      <td>4715.0</td>\n",
       "      <td>112.0</td>\n",
       "      <td>16.092857</td>\n",
       "    </tr>\n",
       "  </tbody>\n",
       "</table>\n",
       "</div>"
      ],
      "text/plain": [
       "      Импорт России важнейших товаров, млн долл США  \\\n",
       "Год                                                   \n",
       "2011                                   14267.700000   \n",
       "2012                                   15562.984615   \n",
       "2013                                   15495.900000   \n",
       "2014                                   13751.823077   \n",
       "2015                                    8352.330769   \n",
       "\n",
       "      Оборот средних организаций по субъектам РФ, млрд. руб.  \\\n",
       "Год                                                            \n",
       "2011                                             3925.6        \n",
       "2012                                             4136.1        \n",
       "2013                                             4295.9        \n",
       "2014                                             4515.8        \n",
       "2015                                             4715.0        \n",
       "\n",
       "      Индекс промышленного производства, в%  \\\n",
       "Год                                           \n",
       "2011                                  105.0   \n",
       "2012                                  109.0   \n",
       "2013                                  109.0   \n",
       "2014                                  112.0   \n",
       "2015                                  112.0   \n",
       "\n",
       "      Средняя доля импорта отдельных товаров в их товарных ресурсах  \n",
       "Год                                                                  \n",
       "2011                                          23.414286              \n",
       "2012                                          24.328571              \n",
       "2013                                          24.221429              \n",
       "2014                                          19.492857              \n",
       "2015                                          16.092857              "
      ]
     },
     "execution_count": 3,
     "metadata": {},
     "output_type": "execute_result"
    }
   ],
   "source": [
    "df.head(5)"
   ]
  },
  {
   "cell_type": "code",
   "execution_count": 5,
   "metadata": {},
   "outputs": [],
   "source": [
    "df28_40 = pd.read_excel('df28_40_import.xlsx', index_col ='Год')\n",
    "df50_67 = pd.read_excel('df50_67_import.xlsx', index_col ='Год')\n",
    "df72_83 = pd.read_excel('df72_83_import.xlsx', index_col ='Год')\n",
    "\n",
    "df = pd.read_excel('df_import.xlsx')\n",
    "y = df['Импорт России важнейших товаров, млн долл США']\n",
    "X = df.drop(['Импорт России важнейших товаров, млн долл США'], axis = 1)\n",
    "\n",
    "df28_40 = pd.read_excel('df28_40_import.xlsx')\n",
    "y28_40 = df28_40['28-40 Импорт продукции химической промышленности, каучука, млн. долл. США']\n",
    "X28_40 = df28_40.drop(['28-40 Импорт продукции химической промышленности, каучука, млн. долл. США'], axis = 1)\n",
    "\n",
    "df50_67 = pd.read_excel('df50_67_import.xlsx')\n",
    "y50_67 = df50_67['50-67 Импорт текстиля, текстильных изделий и обуви, млн. долл. США']\n",
    "X50_67 = df50_67.drop(['50-67 Импорт текстиля, текстильных изделий и обуви, млн. долл. США'], axis = 1)\n",
    "\n",
    "df72_83 = pd.read_excel('df72_83_import.xlsx')\n",
    "y72_8 = df72_83['72-83 Импорт металлов и изделий из них, млн. долл. США']\n",
    "X72_83 = df72_83.drop(['72-83 Импорт металлов и изделий из них, млн. долл. США'], axis = 1)"
   ]
  },
  {
   "cell_type": "code",
   "execution_count": 6,
   "metadata": {},
   "outputs": [
    {
     "data": {
      "text/html": [
       "<div>\n",
       "<style scoped>\n",
       "    .dataframe tbody tr th:only-of-type {\n",
       "        vertical-align: middle;\n",
       "    }\n",
       "\n",
       "    .dataframe tbody tr th {\n",
       "        vertical-align: top;\n",
       "    }\n",
       "\n",
       "    .dataframe thead th {\n",
       "        text-align: right;\n",
       "    }\n",
       "</style>\n",
       "<table border=\"1\" class=\"dataframe\">\n",
       "  <thead>\n",
       "    <tr style=\"text-align: right;\">\n",
       "      <th></th>\n",
       "      <th>Год</th>\n",
       "      <th>28-40 Импорт продукции химической промышленности, каучука, млн. долл. США</th>\n",
       "      <th>Оборот средних организаций по субъектам РФ, млрд. руб.</th>\n",
       "      <th>Индекс промышленного производства, в%</th>\n",
       "      <th>Средняя доля импорта отдельных товаров в их товарных ресурсах</th>\n",
       "    </tr>\n",
       "  </thead>\n",
       "  <tbody>\n",
       "    <tr>\n",
       "      <th>0</th>\n",
       "      <td>2011</td>\n",
       "      <td>42057.8</td>\n",
       "      <td>3925.6</td>\n",
       "      <td>105.0</td>\n",
       "      <td>23.414286</td>\n",
       "    </tr>\n",
       "    <tr>\n",
       "      <th>1</th>\n",
       "      <td>2012</td>\n",
       "      <td>43896.3</td>\n",
       "      <td>4136.1</td>\n",
       "      <td>109.0</td>\n",
       "      <td>24.328571</td>\n",
       "    </tr>\n",
       "    <tr>\n",
       "      <th>2</th>\n",
       "      <td>2013</td>\n",
       "      <td>45923.8</td>\n",
       "      <td>4295.9</td>\n",
       "      <td>109.0</td>\n",
       "      <td>24.221429</td>\n",
       "    </tr>\n",
       "    <tr>\n",
       "      <th>3</th>\n",
       "      <td>2014</td>\n",
       "      <td>42629.7</td>\n",
       "      <td>4515.8</td>\n",
       "      <td>112.0</td>\n",
       "      <td>19.492857</td>\n",
       "    </tr>\n",
       "    <tr>\n",
       "      <th>4</th>\n",
       "      <td>2015</td>\n",
       "      <td>30847.3</td>\n",
       "      <td>4715.0</td>\n",
       "      <td>112.0</td>\n",
       "      <td>16.092857</td>\n",
       "    </tr>\n",
       "  </tbody>\n",
       "</table>\n",
       "</div>"
      ],
      "text/plain": [
       "    Год  \\\n",
       "0  2011   \n",
       "1  2012   \n",
       "2  2013   \n",
       "3  2014   \n",
       "4  2015   \n",
       "\n",
       "   28-40 Импорт продукции химической промышленности, каучука, млн. долл. США  \\\n",
       "0                                            42057.8                           \n",
       "1                                            43896.3                           \n",
       "2                                            45923.8                           \n",
       "3                                            42629.7                           \n",
       "4                                            30847.3                           \n",
       "\n",
       "   Оборот средних организаций по субъектам РФ, млрд. руб.  \\\n",
       "0                                             3925.6        \n",
       "1                                             4136.1        \n",
       "2                                             4295.9        \n",
       "3                                             4515.8        \n",
       "4                                             4715.0        \n",
       "\n",
       "   Индекс промышленного производства, в%  \\\n",
       "0                                  105.0   \n",
       "1                                  109.0   \n",
       "2                                  109.0   \n",
       "3                                  112.0   \n",
       "4                                  112.0   \n",
       "\n",
       "   Средняя доля импорта отдельных товаров в их товарных ресурсах  \n",
       "0                                          23.414286              \n",
       "1                                          24.328571              \n",
       "2                                          24.221429              \n",
       "3                                          19.492857              \n",
       "4                                          16.092857              "
      ]
     },
     "execution_count": 6,
     "metadata": {},
     "output_type": "execute_result"
    }
   ],
   "source": [
    "df28_40.head()"
   ]
  },
  {
   "cell_type": "code",
   "execution_count": 6,
   "metadata": {},
   "outputs": [
    {
     "name": "stdout",
     "output_type": "stream",
     "text": [
      "<class 'pandas.core.frame.DataFrame'>\n",
      "RangeIndex: 11 entries, 0 to 10\n",
      "Data columns (total 5 columns):\n",
      " #   Column                                                         Non-Null Count  Dtype  \n",
      "---  ------                                                         --------------  -----  \n",
      " 0   Год                                                            11 non-null     int64  \n",
      " 1   Импорт России важнейших товаров, млн долл США                  11 non-null     float64\n",
      " 2   Оборот средних организаций по субъектам РФ, млрд. руб.         11 non-null     float64\n",
      " 3   Индекс промышленного производства, в%                          11 non-null     float64\n",
      " 4   Средняя доля импорта отдельных товаров в их товарных ресурсах  11 non-null     float64\n",
      "dtypes: float64(4), int64(1)\n",
      "memory usage: 572.0 bytes\n"
     ]
    }
   ],
   "source": [
    "df.info()"
   ]
  },
  {
   "cell_type": "markdown",
   "metadata": {},
   "source": [
    "# II. Временные ряды"
   ]
  },
  {
   "cell_type": "markdown",
   "metadata": {},
   "source": [
    "### 1. Предварительный анализ временных рядов. "
   ]
  },
  {
   "cell_type": "markdown",
   "metadata": {},
   "source": [
    "#### Датасет: импорт важнейших товаров"
   ]
  },
  {
   "cell_type": "code",
   "execution_count": 8,
   "metadata": {},
   "outputs": [
    {
     "name": "stdout",
     "output_type": "stream",
     "text": [
      "Для столбца Год:\n",
      "Среднее значение: 2016.0\n",
      "Медиана: 2016.0\n",
      "Стандартное отклонение: 3.3166247903554\n",
      "Минимальное значение: 2011\n",
      "Максимальное значение: 2021\n",
      "Коэффициент корреляции: 0.9999999999999999\n",
      "\n",
      "Для столбца Оборот средних организаций по субъектам РФ, млрд. руб.:\n",
      "Среднее значение: 5859.090909090909\n",
      "Медиана: 6141.6\n",
      "Стандартное отклонение: 1733.4146563673362\n",
      "Минимальное значение: 3925.6\n",
      "Максимальное значение: 9495.9\n",
      "Коэффициент корреляции: 0.8442004579566553\n",
      "\n",
      "Для столбца Индекс промышленного производства, в%:\n",
      "Среднее значение: 116.63636363636364\n",
      "Медиана: 114.0\n",
      "Стандартное отклонение: 8.380963277245964\n",
      "Минимальное значение: 105.0\n",
      "Максимальное значение: 131.7\n",
      "Коэффициент корреляции: 0.9320287535210309\n",
      "\n",
      "Для столбца Средняя доля импорта отдельных товаров в их товарных ресурсах:\n",
      "Среднее значение: 17.04025974025974\n",
      "Медиана: 15.6285714285714\n",
      "Стандартное отклонение: 4.971763404905732\n",
      "Минимальное значение: 11.8071428571429\n",
      "Максимальное значение: 24.3285714285714\n",
      "Коэффициент корреляции: 0.9318638794177942\n",
      "\n"
     ]
    }
   ],
   "source": [
    "# расчет статистических показателей\n",
    "def statistic_values(column):\n",
    "    print(f'Для столбца {column.name}:')\n",
    "    matrix = pd.DataFrame()\n",
    "    print('Среднее значение:', column.mean())\n",
    "    print('Медиана:', column.median())\n",
    "    print('Стандартное отклонение:', column.std())\n",
    "    print('Минимальное значение:', column.min())\n",
    "    print('Максимальное значение:', column.max())\n",
    "\n",
    "    # расчет корреляций\n",
    "    corr = column.corr(column.shift())\n",
    "    print('Коэффициент корреляции:', corr)\n",
    "    print()\n",
    "\n",
    "  \n",
    "    \n",
    "for i in X.columns:    \n",
    "    statistic_values(X[f'{i}'])"
   ]
  },
  {
   "cell_type": "markdown",
   "metadata": {},
   "source": [
    "#### Датасет Импорт продукции химической промышленности, каучука"
   ]
  },
  {
   "cell_type": "code",
   "execution_count": 10,
   "metadata": {},
   "outputs": [
    {
     "name": "stdout",
     "output_type": "stream",
     "text": [
      "Для столбца Год:\n",
      "Среднее значение: 2016.0\n",
      "Медиана: 2016.0\n",
      "Стандартное отклонение: 3.3166247903554\n",
      "Минимальное значение: 2011\n",
      "Максимальное значение: 2021\n",
      "Коэффициент корреляции: 0.9999999999999999\n",
      "\n",
      "Для столбца Оборот средних организаций по субъектам РФ, млрд. руб.:\n",
      "Среднее значение: 5859.090909090909\n",
      "Медиана: 6141.6\n",
      "Стандартное отклонение: 1733.4146563673362\n",
      "Минимальное значение: 3925.6\n",
      "Максимальное значение: 9495.9\n",
      "Коэффициент корреляции: 0.8442004579566553\n",
      "\n",
      "Для столбца Индекс промышленного производства, в%:\n",
      "Среднее значение: 116.63636363636364\n",
      "Медиана: 114.0\n",
      "Стандартное отклонение: 8.380963277245964\n",
      "Минимальное значение: 105.0\n",
      "Максимальное значение: 131.7\n",
      "Коэффициент корреляции: 0.9320287535210309\n",
      "\n",
      "Для столбца Средняя доля импорта отдельных товаров в их товарных ресурсах:\n",
      "Среднее значение: 17.04025974025974\n",
      "Медиана: 15.6285714285714\n",
      "Стандартное отклонение: 4.971763404905732\n",
      "Минимальное значение: 11.8071428571429\n",
      "Максимальное значение: 24.3285714285714\n",
      "Коэффициент корреляции: 0.9318638794177942\n",
      "\n"
     ]
    }
   ],
   "source": [
    "# расчет статистических показателей\n",
    "    \n",
    "for i in X28_40.columns:    \n",
    "    statistic_values(X28_40[f'{i}'])"
   ]
  },
  {
   "cell_type": "markdown",
   "metadata": {},
   "source": [
    "#### Датасет: Импорт металлов и изделий из них"
   ]
  },
  {
   "cell_type": "code",
   "execution_count": 13,
   "metadata": {},
   "outputs": [
    {
     "name": "stdout",
     "output_type": "stream",
     "text": [
      "Для столбца Год:\n",
      "Среднее значение: 2016.0\n",
      "Медиана: 2016.0\n",
      "Стандартное отклонение: 3.3166247903554\n",
      "Минимальное значение: 2011\n",
      "Максимальное значение: 2021\n",
      "Коэффициент корреляции: 0.9999999999999999\n",
      "\n",
      "Для столбца Оборот средних организаций по субъектам РФ, млрд. руб.:\n",
      "Среднее значение: 5859.090909090909\n",
      "Медиана: 6141.6\n",
      "Стандартное отклонение: 1733.4146563673362\n",
      "Минимальное значение: 3925.6\n",
      "Максимальное значение: 9495.9\n",
      "Коэффициент корреляции: 0.8442004579566553\n",
      "\n",
      "Для столбца Индекс промышленного производства, в%:\n",
      "Среднее значение: 116.63636363636364\n",
      "Медиана: 114.0\n",
      "Стандартное отклонение: 8.380963277245964\n",
      "Минимальное значение: 105.0\n",
      "Максимальное значение: 131.7\n",
      "Коэффициент корреляции: 0.9320287535210309\n",
      "\n",
      "Для столбца Средняя доля импорта отдельных товаров в их товарных ресурсах:\n",
      "Среднее значение: 17.04025974025974\n",
      "Медиана: 15.6285714285714\n",
      "Стандартное отклонение: 4.971763404905732\n",
      "Минимальное значение: 11.8071428571429\n",
      "Максимальное значение: 24.3285714285714\n",
      "Коэффициент корреляции: 0.9318638794177942\n",
      "\n"
     ]
    }
   ],
   "source": [
    "# расчет статистических показателей\n",
    "def statistic_values(column):\n",
    "    print(f'Для столбца {column.name}:')\n",
    "    matrix = pd.DataFrame()\n",
    "    #matrix['Среднее значение'] = column.mean()\n",
    "    #matrix['Медиана'] = column.median()\n",
    "    #matrix['Стандартное отклонение'] = column.std()\n",
    "    #matrix['Минимальное значение'] = column.min()\n",
    "    #matrix['Максимальное значение'] = column.max()\n",
    "    print('Среднее значение:', column.mean())\n",
    "    print('Медиана:', column.median())\n",
    "    print('Стандартное отклонение:', column.std())\n",
    "    print('Минимальное значение:', column.min())\n",
    "    print('Максимальное значение:', column.max())\n",
    "\n",
    "    # расчет корреляций\n",
    "    corr = column.corr(column.shift())\n",
    "    print('Коэффициент корреляции:', corr)\n",
    "    print()\n",
    "\n",
    "  \n",
    "    \n",
    "for i in X.columns:    \n",
    "    statistic_values(X[f'{i}'])"
   ]
  },
  {
   "cell_type": "markdown",
   "metadata": {},
   "source": [
    "**Анализ:** \n",
    "\n",
    "- График временного ряда показывает, что значения прироста производства по основным импортозамещающим продуктам животноводства имеют тенденцию к увеличению в начале периода до 2013 года, затем, с 2014 года тенденция идет в низ и продолжается по сей день. \n",
    "- Оборот средних организаций имеет твердую динамику роста на всем интревале. \n",
    "- Удельный вес потребительских товаров в общем обхеме иморта имеет резкий тред снижения (с небольшим ростом в 2017 году)\n",
    "\n",
    "* Стандартное отклонение равно 0.0158, 1733.41, 1.61, что говорит о том, что значения не имеют большого расброса"
   ]
  },
  {
   "cell_type": "markdown",
   "metadata": {},
   "source": [
    "### Проверка на автокорреляцию"
   ]
  },
  {
   "cell_type": "markdown",
   "metadata": {},
   "source": [
    "#### Датасет: Импорт России важнейших товаров"
   ]
  },
  {
   "cell_type": "markdown",
   "metadata": {},
   "source": [
    "#### Тест Льюнга-Бокса"
   ]
  },
  {
   "cell_type": "code",
   "execution_count": 14,
   "metadata": {},
   "outputs": [
    {
     "data": {
      "text/html": [
       "<div>\n",
       "<style scoped>\n",
       "    .dataframe tbody tr th:only-of-type {\n",
       "        vertical-align: middle;\n",
       "    }\n",
       "\n",
       "    .dataframe tbody tr th {\n",
       "        vertical-align: top;\n",
       "    }\n",
       "\n",
       "    .dataframe thead th {\n",
       "        text-align: right;\n",
       "    }\n",
       "</style>\n",
       "<table border=\"1\" class=\"dataframe\">\n",
       "  <thead>\n",
       "    <tr style=\"text-align: right;\">\n",
       "      <th></th>\n",
       "      <th>lb_stat</th>\n",
       "      <th>lb_pvalue</th>\n",
       "    </tr>\n",
       "  </thead>\n",
       "  <tbody>\n",
       "    <tr>\n",
       "      <th>10</th>\n",
       "      <td>14.19861</td>\n",
       "      <td>0.164124</td>\n",
       "    </tr>\n",
       "  </tbody>\n",
       "</table>\n",
       "</div>"
      ],
      "text/plain": [
       "     lb_stat  lb_pvalue\n",
       "10  14.19861   0.164124"
      ]
     },
     "execution_count": 14,
     "metadata": {},
     "output_type": "execute_result"
    }
   ],
   "source": [
    "from statsmodels.stats.diagnostic import acorr_ljungbox\n",
    "X = np.column_stack((np.ones(len(df)), range(len(df))))\n",
    "y = df['Импорт России важнейших товаров, млн долл США'].values\n",
    "model = OLS(y, X).fit()\n",
    "# p-value (<0.05) предполагает наличие автокорреляции квадратов остатков\n",
    "acorr_ljungbox(model.resid**2, lags=[10], return_df=True)"
   ]
  },
  {
   "cell_type": "markdown",
   "metadata": {},
   "source": [
    "**Анализ:** \n",
    "\n",
    "p-value (>0.05) = 0.164 => автокорреляция есть"
   ]
  },
  {
   "cell_type": "markdown",
   "metadata": {},
   "source": [
    "#### Датасет: Импорт продукции химической промышленности, каучука"
   ]
  },
  {
   "cell_type": "code",
   "execution_count": 15,
   "metadata": {},
   "outputs": [
    {
     "data": {
      "text/html": [
       "<div>\n",
       "<style scoped>\n",
       "    .dataframe tbody tr th:only-of-type {\n",
       "        vertical-align: middle;\n",
       "    }\n",
       "\n",
       "    .dataframe tbody tr th {\n",
       "        vertical-align: top;\n",
       "    }\n",
       "\n",
       "    .dataframe thead th {\n",
       "        text-align: right;\n",
       "    }\n",
       "</style>\n",
       "<table border=\"1\" class=\"dataframe\">\n",
       "  <thead>\n",
       "    <tr style=\"text-align: right;\">\n",
       "      <th></th>\n",
       "      <th>lb_stat</th>\n",
       "      <th>lb_pvalue</th>\n",
       "    </tr>\n",
       "  </thead>\n",
       "  <tbody>\n",
       "    <tr>\n",
       "      <th>10</th>\n",
       "      <td>10.780225</td>\n",
       "      <td>0.374895</td>\n",
       "    </tr>\n",
       "  </tbody>\n",
       "</table>\n",
       "</div>"
      ],
      "text/plain": [
       "      lb_stat  lb_pvalue\n",
       "10  10.780225   0.374895"
      ]
     },
     "execution_count": 15,
     "metadata": {},
     "output_type": "execute_result"
    }
   ],
   "source": [
    "X28_40 = np.column_stack((np.ones(len(df28_40)), range(len(df28_40))))\n",
    "y = df28_40['28-40 Импорт продукции химической промышленности, каучука, млн. долл. США'].values\n",
    "model28_40 = OLS(y, X28_40).fit()\n",
    "acorr_ljungbox(model28_40.resid**2, lags=[10], return_df=True)"
   ]
  },
  {
   "cell_type": "markdown",
   "metadata": {},
   "source": [
    "**Анализ:** \n",
    "\n",
    "p-value (>0.05) = 0.375 => автокорреляция есть"
   ]
  },
  {
   "cell_type": "markdown",
   "metadata": {},
   "source": [
    "#### Датасет: Импорт текстиля, текстильных изделий и обуви"
   ]
  },
  {
   "cell_type": "code",
   "execution_count": 16,
   "metadata": {},
   "outputs": [
    {
     "data": {
      "text/html": [
       "<div>\n",
       "<style scoped>\n",
       "    .dataframe tbody tr th:only-of-type {\n",
       "        vertical-align: middle;\n",
       "    }\n",
       "\n",
       "    .dataframe tbody tr th {\n",
       "        vertical-align: top;\n",
       "    }\n",
       "\n",
       "    .dataframe thead th {\n",
       "        text-align: right;\n",
       "    }\n",
       "</style>\n",
       "<table border=\"1\" class=\"dataframe\">\n",
       "  <thead>\n",
       "    <tr style=\"text-align: right;\">\n",
       "      <th></th>\n",
       "      <th>lb_stat</th>\n",
       "      <th>lb_pvalue</th>\n",
       "    </tr>\n",
       "  </thead>\n",
       "  <tbody>\n",
       "    <tr>\n",
       "      <th>10</th>\n",
       "      <td>9.577707</td>\n",
       "      <td>0.47829</td>\n",
       "    </tr>\n",
       "  </tbody>\n",
       "</table>\n",
       "</div>"
      ],
      "text/plain": [
       "     lb_stat  lb_pvalue\n",
       "10  9.577707    0.47829"
      ]
     },
     "execution_count": 16,
     "metadata": {},
     "output_type": "execute_result"
    }
   ],
   "source": [
    "X50_67 = np.column_stack((np.ones(len(df50_67)), range(len(df50_67))))\n",
    "y = df50_67['50-67 Импорт текстиля, текстильных изделий и обуви, млн. долл. США'].values\n",
    "model50_67 = OLS(y, X28_40).fit()\n",
    "acorr_ljungbox(model50_67.resid**2, lags=[10], return_df=True)"
   ]
  },
  {
   "cell_type": "markdown",
   "metadata": {},
   "source": [
    "**Анализ:** \n",
    "\n",
    "p-value (>0.05) = 0.478 => автокорреляция есть"
   ]
  },
  {
   "cell_type": "markdown",
   "metadata": {},
   "source": [
    "#### Датасет: Импорт металлов и изделий из них"
   ]
  },
  {
   "cell_type": "code",
   "execution_count": 17,
   "metadata": {},
   "outputs": [
    {
     "data": {
      "text/html": [
       "<div>\n",
       "<style scoped>\n",
       "    .dataframe tbody tr th:only-of-type {\n",
       "        vertical-align: middle;\n",
       "    }\n",
       "\n",
       "    .dataframe tbody tr th {\n",
       "        vertical-align: top;\n",
       "    }\n",
       "\n",
       "    .dataframe thead th {\n",
       "        text-align: right;\n",
       "    }\n",
       "</style>\n",
       "<table border=\"1\" class=\"dataframe\">\n",
       "  <thead>\n",
       "    <tr style=\"text-align: right;\">\n",
       "      <th></th>\n",
       "      <th>lb_stat</th>\n",
       "      <th>lb_pvalue</th>\n",
       "    </tr>\n",
       "  </thead>\n",
       "  <tbody>\n",
       "    <tr>\n",
       "      <th>10</th>\n",
       "      <td>9.243349</td>\n",
       "      <td>0.509175</td>\n",
       "    </tr>\n",
       "  </tbody>\n",
       "</table>\n",
       "</div>"
      ],
      "text/plain": [
       "     lb_stat  lb_pvalue\n",
       "10  9.243349   0.509175"
      ]
     },
     "execution_count": 17,
     "metadata": {},
     "output_type": "execute_result"
    }
   ],
   "source": [
    "X72_83 = np.column_stack((np.ones(len(df72_83)), range(len(df72_83))))\n",
    "y = df72_83['72-83 Импорт металлов и изделий из них, млн. долл. США'].values\n",
    "model72_83 = OLS(y, X72_83).fit()\n",
    "acorr_ljungbox(model72_83.resid**2, lags=[10], return_df=True)"
   ]
  },
  {
   "cell_type": "markdown",
   "metadata": {},
   "source": [
    "**Анализ:** \n",
    "\n",
    "p-value (>0.05) = 0.51 => автокорреляция отсутствует"
   ]
  },
  {
   "cell_type": "code",
   "execution_count": 18,
   "metadata": {},
   "outputs": [],
   "source": [
    "df = pd.read_excel('df_import.xlsx', index_col ='Год')\n",
    "df28_40 = pd.read_excel('df28_40_import.xlsx', index_col ='Год')\n",
    "df50_67 = pd.read_excel('df50_67_import.xlsx', index_col ='Год')\n",
    "df72_83 = pd.read_excel('df72_83_import.xlsx', index_col ='Год')\n",
    "\n",
    "y = df['Импорт России важнейших товаров, млн долл США']\n",
    "X = df.drop(['Импорт России важнейших товаров, млн долл США'], axis = 1)\n",
    "\n",
    "y28_40 = df28_40['28-40 Импорт продукции химической промышленности, каучука, млн. долл. США']\n",
    "X28_40 = df28_40.drop(['28-40 Импорт продукции химической промышленности, каучука, млн. долл. США'], axis = 1)\n",
    "\n",
    "y50_67 = df50_67['50-67 Импорт текстиля, текстильных изделий и обуви, млн. долл. США']\n",
    "X50_67 = df50_67.drop(['50-67 Импорт текстиля, текстильных изделий и обуви, млн. долл. США'], axis = 1)\n",
    "\n",
    "y72_83 = df72_83['72-83 Импорт металлов и изделий из них, млн. долл. США']\n",
    "X72_83 = df72_83.drop(['72-83 Импорт металлов и изделий из них, млн. долл. США'], axis = 1)"
   ]
  },
  {
   "cell_type": "markdown",
   "metadata": {},
   "source": [
    "### Выявление аномальных наблюдений с помощью использования распределения Стьюдента, Метода Ирвина\t\t\t"
   ]
  },
  {
   "cell_type": "markdown",
   "metadata": {},
   "source": [
    "**Шаг №1.** Проверим ряд на нормальность с помощью теста Шапиро-Уилка, чтобы выбрать метод для выявления аномальных наблюдений."
   ]
  },
  {
   "cell_type": "code",
   "execution_count": 24,
   "metadata": {},
   "outputs": [],
   "source": [
    "import math\n",
    "import numpy as np\n",
    "from scipy.stats import shapiro \n",
    "from scipy.stats import lognorm"
   ]
  },
  {
   "cell_type": "code",
   "execution_count": 25,
   "metadata": {},
   "outputs": [
    {
     "name": "stdout",
     "output_type": "stream",
     "text": [
      "статистика для Оборот средних организаций по субъектам РФ, млрд. руб.:\n",
      "ShapiroResult(statistic=0.9081743955612183, pvalue=0.23201127350330353)\n",
      "\n",
      "статистика для Индекс промышленного производства, в%:\n",
      "ShapiroResult(statistic=0.9507124423980713, pvalue=0.6530702114105225)\n",
      "\n",
      "статистика для Средняя доля импорта отдельных товаров в их товарных ресурсах:\n",
      "ShapiroResult(statistic=0.8516103029251099, pvalue=0.044791921973228455)\n",
      "\n",
      "статистика для intercept:\n",
      "ShapiroResult(statistic=1.0, pvalue=1.0)\n",
      "\n"
     ]
    },
    {
     "name": "stderr",
     "output_type": "stream",
     "text": [
      "C:\\Users\\valentina.filippenko\\AppData\\Local\\miniconda3\\Lib\\site-packages\\scipy\\stats\\_morestats.py:1879: UserWarning: Input data for shapiro has range zero. The results may not be accurate.\n",
      "  warnings.warn(\"Input data for shapiro has range zero. The results \"\n"
     ]
    }
   ],
   "source": [
    "def Shapiro(column):\n",
    "    np.random.seed (1)\n",
    "\n",
    "    #тест Шапиро-Уилка\n",
    "    print(f'статистика для {column.name}:')\n",
    "    print(f'{shapiro(column.values)}')\n",
    "    print()\n",
    "    \n",
    "for i in X.columns:\n",
    "    Shapiro(X[f'{i}'])\n",
    "    "
   ]
  },
  {
   "cell_type": "code",
   "execution_count": 26,
   "metadata": {},
   "outputs": [
    {
     "name": "stdout",
     "output_type": "stream",
     "text": [
      "статистика для Оборот средних организаций по субъектам РФ, млрд. руб.:\n",
      "ShapiroResult(statistic=0.9081743955612183, pvalue=0.23201127350330353)\n",
      "\n",
      "статистика для Индекс промышленного производства, в%:\n",
      "ShapiroResult(statistic=0.9507124423980713, pvalue=0.6530702114105225)\n",
      "\n",
      "статистика для Средняя доля импорта отдельных товаров в их товарных ресурсах:\n",
      "ShapiroResult(statistic=0.8516103029251099, pvalue=0.044791921973228455)\n",
      "\n"
     ]
    }
   ],
   "source": [
    "for i in X28_40.columns:\n",
    "    Shapiro(X28_40[f'{i}'])"
   ]
  },
  {
   "cell_type": "code",
   "execution_count": 27,
   "metadata": {},
   "outputs": [
    {
     "name": "stdout",
     "output_type": "stream",
     "text": [
      "статистика для Оборот средних организаций по субъектам РФ, млрд. руб.:\n",
      "ShapiroResult(statistic=0.9081743955612183, pvalue=0.23201127350330353)\n",
      "\n",
      "статистика для Индекс промышленного производства, в%:\n",
      "ShapiroResult(statistic=0.9507124423980713, pvalue=0.6530702114105225)\n",
      "\n",
      "статистика для Средняя доля импорта отдельных товаров в их товарных ресурсах:\n",
      "ShapiroResult(statistic=0.8516103029251099, pvalue=0.044791921973228455)\n",
      "\n"
     ]
    }
   ],
   "source": [
    "for i in X50_67.columns:\n",
    "    Shapiro(X50_67[f'{i}'])"
   ]
  },
  {
   "cell_type": "code",
   "execution_count": 28,
   "metadata": {},
   "outputs": [
    {
     "name": "stdout",
     "output_type": "stream",
     "text": [
      "статистика для Оборот средних организаций по субъектам РФ, млрд. руб.:\n",
      "ShapiroResult(statistic=0.9081743955612183, pvalue=0.23201127350330353)\n",
      "\n",
      "статистика для Индекс промышленного производства, в%:\n",
      "ShapiroResult(statistic=0.9507124423980713, pvalue=0.6530702114105225)\n",
      "\n",
      "статистика для Средняя доля импорта отдельных товаров в их товарных ресурсах:\n",
      "ShapiroResult(statistic=0.8516103029251099, pvalue=0.044791921973228455)\n",
      "\n"
     ]
    }
   ],
   "source": [
    "for i in X72_83.columns:\n",
    "    Shapiro(X72_83[f'{i}'])"
   ]
  },
  {
   "cell_type": "markdown",
   "metadata": {},
   "source": [
    "#### Выводы: \n",
    "\n",
    "- Если pvalue > 0.05, значит, данные распределены нормально. \n",
    "\n",
    "- Если < 0.05, следовательно, не распределены нормально. \n",
    "\n",
    "1. Для признака 1: pvalue (> 0,05) = 0.85 => данные распределены нормально\n",
    "\n",
    "2. Для признака 2: pvalue (> 0,05) = 0.23 => данные распределены нормально\n",
    "\n",
    "3. Для признака 3: pvalue (> 0,05) = 0.337 => данные распределены нормально"
   ]
  },
  {
   "cell_type": "markdown",
   "metadata": {},
   "source": [
    "### 3.1  **Ирвин**"
   ]
  },
  {
   "cell_type": "markdown",
   "metadata": {},
   "source": [
    "Для выявления аномальных наблюдений в нашем случае можно использовать метод Ирвина. Он основан на вычислении значения Z-критерия для каждого значения в выборке. Затем значения, для которых Z-критерий превышает пороговое значение, считаются аномальными."
   ]
  },
  {
   "cell_type": "code",
   "execution_count": 29,
   "metadata": {},
   "outputs": [],
   "source": [
    "df = pd.read_excel('df_import.xlsx', index_col ='Год')\n",
    "df28_40 = pd.read_excel('df28_40_import.xlsx', index_col ='Год')\n",
    "df50_67 = pd.read_excel('df50_67_import.xlsx', index_col ='Год')\n",
    "df72_83 = pd.read_excel('df72_83_import.xlsx', index_col ='Год')\n",
    "\n",
    "y = df['Импорт России важнейших товаров, млн долл США']\n",
    "X = df.drop(['Импорт России важнейших товаров, млн долл США'], axis = 1)\n",
    "\n",
    "y28_40 = df28_40['28-40 Импорт продукции химической промышленности, каучука, млн. долл. США']\n",
    "X28_40 = df28_40.drop(['28-40 Импорт продукции химической промышленности, каучука, млн. долл. США'], axis = 1)\n",
    "\n",
    "y50_67 = df50_67['50-67 Импорт текстиля, текстильных изделий и обуви, млн. долл. США']\n",
    "X50_67 = df50_67.drop(['50-67 Импорт текстиля, текстильных изделий и обуви, млн. долл. США'], axis = 1)\n",
    "\n",
    "y72_83 = df72_83['72-83 Импорт металлов и изделий из них, млн. долл. США']\n",
    "X72_83 = df72_83.drop(['72-83 Импорт металлов и изделий из них, млн. долл. США'], axis = 1)"
   ]
  },
  {
   "cell_type": "markdown",
   "metadata": {},
   "source": [
    "Критические значения:"
   ]
  },
  {
   "cell_type": "code",
   "execution_count": 30,
   "metadata": {},
   "outputs": [
    {
     "name": "stdout",
     "output_type": "stream",
     "text": [
      "i:Оборот средних организаций по субъектам РФ, млрд. руб.\n",
      "lambda_набл: Год\n",
      "2011         NaN\n",
      "2012    0.121437\n",
      "2013    0.092188\n",
      "2014    0.126859\n",
      "2015    0.114918\n",
      "2016    1.180560\n",
      "2017   -0.279564\n",
      "2018    0.199145\n",
      "2019   -0.277141\n",
      "2020    0.820519\n",
      "2021    1.114563\n",
      "Name: lambda_набл, dtype: float64\n",
      "lambda_крит: Год\n",
      "2011     NaN\n",
      "2012    1.46\n",
      "2013    1.46\n",
      "2014    1.46\n",
      "2015    1.46\n",
      "2016    1.46\n",
      "2017    1.46\n",
      "2018    1.46\n",
      "2019    1.46\n",
      "2020    1.46\n",
      "2021    1.46\n",
      "Name: lambda_крит, dtype: float64\n",
      "0\n",
      "i:Индекс промышленного производства, в%\n",
      "lambda_набл: Год\n",
      "2011         NaN\n",
      "2012    0.477272\n",
      "2013    0.000000\n",
      "2014    0.357954\n",
      "2015    0.000000\n",
      "2016    0.238636\n",
      "2017    0.501136\n",
      "2018    0.489204\n",
      "2019    0.441477\n",
      "2020   -0.262500\n",
      "2021    0.942612\n",
      "Name: lambda_набл, dtype: float64\n",
      "lambda_крит: Год\n",
      "2011     NaN\n",
      "2012    1.46\n",
      "2013    1.46\n",
      "2014    1.46\n",
      "2015    1.46\n",
      "2016    1.46\n",
      "2017    1.46\n",
      "2018    1.46\n",
      "2019    1.46\n",
      "2020    1.46\n",
      "2021    1.46\n",
      "Name: lambda_крит, dtype: float64\n",
      "0\n",
      "i:Средняя доля импорта отдельных товаров в их товарных ресурсах\n",
      "lambda_набл: Год\n",
      "2011         NaN\n",
      "2012    0.183896\n",
      "2013   -0.021550\n",
      "2014   -0.951085\n",
      "2015   -0.683862\n",
      "2016   -0.093385\n",
      "2017   -0.192516\n",
      "2018   -0.428132\n",
      "2019    0.133612\n",
      "2020   -0.235616\n",
      "2021   -0.045974\n",
      "Name: lambda_набл, dtype: float64\n",
      "lambda_крит: Год\n",
      "2011     NaN\n",
      "2012    1.46\n",
      "2013    1.46\n",
      "2014    1.46\n",
      "2015    1.46\n",
      "2016    1.46\n",
      "2017    1.46\n",
      "2018    1.46\n",
      "2019    1.46\n",
      "2020    1.46\n",
      "2021    1.46\n",
      "Name: lambda_крит, dtype: float64\n",
      "0\n"
     ]
    }
   ],
   "source": [
    "def Irvin(df, column):\n",
    "    Sy = df[column].std()\n",
    "    dif = (df[column][1:].reset_index(drop=True) - df[column][:-1].reset_index(drop=True))\n",
    "    l_n = list(dif / Sy)\n",
    "    df['lambda_набл'] = [np.nan] + l_n\n",
    "    df['lambda_крит'] = [np.nan] + [1.46] * (df.shape[0] - 1)  # из таблицы по n\n",
    "    df['irvin'] = df['lambda_набл'] > df['lambda_крит']\n",
    "    print(f'lambda_набл: {df[\"lambda_набл\"]}')\n",
    "    print(f'lambda_крит: {df[\"lambda_крит\"]}')\n",
    "\n",
    "    print(df['irvin'].sum()) # по Ирвину на ур знач 5% нет аномал знач\n",
    "\n",
    "    \n",
    "for i in X.columns:\n",
    "    print(f'i:{i}')\n",
    "    Irvin(df, i)"
   ]
  },
  {
   "cell_type": "code",
   "execution_count": 31,
   "metadata": {},
   "outputs": [
    {
     "name": "stdout",
     "output_type": "stream",
     "text": [
      "0\n",
      "0\n",
      "0\n"
     ]
    }
   ],
   "source": [
    "def Irvin(df, column):\n",
    "    Sy = df[column].std()\n",
    "    dif = (df[column][1:].reset_index(drop=True) - df[column][:-1].reset_index(drop=True))\n",
    "    l_n = list(dif / Sy)\n",
    "    df['lambda_набл'] = [np.nan] + l_n\n",
    "    df['lambda_крит'] = [np.nan] + [1.46] * (df.shape[0] - 1)  # из таблицы по n\n",
    "    df['irvin'] = df['lambda_набл'] > df['lambda_крит']\n",
    "    print(df['irvin'].sum()) # по Ирвину на ур знач 5% нет аномал значений\n",
    "    \n",
    "for i in X28_40.columns:\n",
    "    Irvin(df28_40, i)"
   ]
  },
  {
   "cell_type": "code",
   "execution_count": 32,
   "metadata": {},
   "outputs": [
    {
     "name": "stdout",
     "output_type": "stream",
     "text": [
      "0\n",
      "0\n",
      "0\n"
     ]
    }
   ],
   "source": [
    "for i in X50_67.columns:\n",
    "    Irvin(df50_67, i)"
   ]
  },
  {
   "cell_type": "code",
   "execution_count": 33,
   "metadata": {},
   "outputs": [
    {
     "name": "stdout",
     "output_type": "stream",
     "text": [
      "0\n",
      "0\n",
      "0\n"
     ]
    }
   ],
   "source": [
    "for i in X72_83.columns:\n",
    "    Irvin(df72_83, i)"
   ]
  },
  {
   "cell_type": "markdown",
   "metadata": {},
   "source": [
    "####  **Вывод**: \n",
    "\n",
    "Для каждого значения считаем lambda_наблюдаемое (в числителе - разность между текущим значением и предыдущим, в знаменателе - стандартное отклонение). Затем находим lambda_критическое по таблице и сравниваем. \n",
    "Если lambda_наблюдаемое > lambda_критическое, то данное наблюдение можно считать аномальным при 5% уровне значимости.\n",
    "\n",
    "- по методу Ирвина аномалий в данных нет на 5% уровне значимости"
   ]
  },
  {
   "cell_type": "markdown",
   "metadata": {},
   "source": [
    "### 4. Тест Дики-Фуллера на проверку стационарности данных"
   ]
  },
  {
   "cell_type": "code",
   "execution_count": 34,
   "metadata": {},
   "outputs": [],
   "source": [
    "from statsmodels.tsa.stattools import adfuller\n",
    "from scipy.stats import norm, lognorm, expon, t, f, beta, pareto, chi2, rayleigh, gamma"
   ]
  },
  {
   "cell_type": "code",
   "execution_count": 110,
   "metadata": {},
   "outputs": [],
   "source": [
    "def fuller(series):\n",
    "    #series = df[column]\n",
    "    print('Статистика Дики-Фуллера: %f' % adfuller(series)[0]) \n",
    "    print('Р-value: %f' % adfuller(series)[1]) \n",
    "    if adfuller(series)[1]>0.05:\n",
    "        print('Ряд не является стационарным')\n",
    "        return False\n",
    "    else:\n",
    "        print('Ряд является стационарным') \n",
    "        return True"
   ]
  },
  {
   "cell_type": "code",
   "execution_count": 23,
   "metadata": {},
   "outputs": [
    {
     "data": {
      "text/plain": [
       "Index(['Оборот средних организаций по субъектам РФ, млрд. руб.',\n",
       "       'Индекс промышленного производства, в%',\n",
       "       'Средняя доля импорта отдельных товаров в их товарных ресурсах'],\n",
       "      dtype='object')"
      ]
     },
     "execution_count": 23,
     "metadata": {},
     "output_type": "execute_result"
    }
   ],
   "source": [
    "X.columns"
   ]
  },
  {
   "cell_type": "code",
   "execution_count": 111,
   "metadata": {},
   "outputs": [
    {
     "name": "stdout",
     "output_type": "stream",
     "text": [
      "Статистика Дики-Фуллера: 0.375527\n",
      "Р-value: 0.980556\n",
      "Ряд не является стационарным\n",
      "Статистика Дики-Фуллера: 1.347399\n",
      "Р-value: 0.996862\n",
      "Ряд не является стационарным\n",
      "Статистика Дики-Фуллера: -4.611659\n",
      "Р-value: 0.000123\n",
      "Ряд является стационарным\n"
     ]
    }
   ],
   "source": [
    "for i in X.columns:\n",
    "    fuller(df[f'{i}'])"
   ]
  },
  {
   "cell_type": "markdown",
   "metadata": {},
   "source": [
    "Теперь нам нужно преобразовать временной ряд с помощью функции to_stationary() столько раз, чтобы временной ряд стал стационарным:\n"
   ]
  },
  {
   "cell_type": "code",
   "execution_count": 123,
   "metadata": {},
   "outputs": [],
   "source": [
    "def to_stationary(ts):   \n",
    "    ts_diff = pd.Series(ts)\n",
    "    d = 0\n",
    "    while fuller(ts_diff) is False:\n",
    "        ts_diff = ts_diff.diff().dropna()\n",
    "        d = d + 1\n",
    "    return ts_diff"
   ]
  },
  {
   "cell_type": "code",
   "execution_count": 124,
   "metadata": {},
   "outputs": [
    {
     "name": "stdout",
     "output_type": "stream",
     "text": [
      "Статистика Дики-Фуллера: 0.375527\n",
      "Р-value: 0.980556\n",
      "Ряд не является стационарным\n",
      "Статистика Дики-Фуллера: -107.543431\n",
      "Р-value: 0.000000\n",
      "Ряд является стационарным\n",
      "Статистика Дики-Фуллера: 1.347399\n",
      "Р-value: 0.996862\n",
      "Ряд не является стационарным\n",
      "Статистика Дики-Фуллера: -4.423451\n",
      "Р-value: 0.000270\n",
      "Ряд является стационарным\n",
      "Статистика Дики-Фуллера: -4.611659\n",
      "Р-value: 0.000123\n",
      "Ряд является стационарным\n"
     ]
    }
   ],
   "source": [
    "new_df = pd.DataFrame()\n",
    "for i in X.columns:\n",
    "    ts = df[f'{i}']\n",
    "    new_df[f'{i}'] = to_stationary(ts)  "
   ]
  },
  {
   "cell_type": "code",
   "execution_count": 122,
   "metadata": {
    "scrolled": true
   },
   "outputs": [
    {
     "data": {
      "text/html": [
       "<div>\n",
       "<style scoped>\n",
       "    .dataframe tbody tr th:only-of-type {\n",
       "        vertical-align: middle;\n",
       "    }\n",
       "\n",
       "    .dataframe tbody tr th {\n",
       "        vertical-align: top;\n",
       "    }\n",
       "\n",
       "    .dataframe thead th {\n",
       "        text-align: right;\n",
       "    }\n",
       "</style>\n",
       "<table border=\"1\" class=\"dataframe\">\n",
       "  <thead>\n",
       "    <tr style=\"text-align: right;\">\n",
       "      <th></th>\n",
       "      <th>Оборот средних организаций по субъектам РФ, млрд. руб.</th>\n",
       "      <th>Индекс промышленного производства, в%</th>\n",
       "      <th>Средняя доля импорта отдельных товаров в их товарных ресурсах</th>\n",
       "    </tr>\n",
       "    <tr>\n",
       "      <th>Год</th>\n",
       "      <th></th>\n",
       "      <th></th>\n",
       "      <th></th>\n",
       "    </tr>\n",
       "  </thead>\n",
       "  <tbody>\n",
       "    <tr>\n",
       "      <th>2012</th>\n",
       "      <td>210.5</td>\n",
       "      <td>4.0</td>\n",
       "      <td>24.328571</td>\n",
       "    </tr>\n",
       "    <tr>\n",
       "      <th>2013</th>\n",
       "      <td>159.8</td>\n",
       "      <td>0.0</td>\n",
       "      <td>24.221429</td>\n",
       "    </tr>\n",
       "    <tr>\n",
       "      <th>2014</th>\n",
       "      <td>219.9</td>\n",
       "      <td>3.0</td>\n",
       "      <td>19.492857</td>\n",
       "    </tr>\n",
       "  </tbody>\n",
       "</table>\n",
       "</div>"
      ],
      "text/plain": [
       "      Оборот средних организаций по субъектам РФ, млрд. руб.  \\\n",
       "Год                                                            \n",
       "2012                                              210.5        \n",
       "2013                                              159.8        \n",
       "2014                                              219.9        \n",
       "\n",
       "      Индекс промышленного производства, в%  \\\n",
       "Год                                           \n",
       "2012                                    4.0   \n",
       "2013                                    0.0   \n",
       "2014                                    3.0   \n",
       "\n",
       "      Средняя доля импорта отдельных товаров в их товарных ресурсах  \n",
       "Год                                                                  \n",
       "2012                                          24.328571              \n",
       "2013                                          24.221429              \n",
       "2014                                          19.492857              "
      ]
     },
     "execution_count": 122,
     "metadata": {},
     "output_type": "execute_result"
    }
   ],
   "source": [
    "new_df.head(3)"
   ]
  },
  {
   "cell_type": "code",
   "execution_count": 37,
   "metadata": {},
   "outputs": [
    {
     "name": "stdout",
     "output_type": "stream",
     "text": [
      "Статистика Дики-Фуллера: 0.375527\n",
      "Р-value: 0.980556\n",
      "Ряд не является стационарным\n",
      "Статистика Дики-Фуллера: 1.347399\n",
      "Р-value: 0.996862\n",
      "Ряд не является стационарным\n",
      "Статистика Дики-Фуллера: -4.611659\n",
      "Р-value: 0.000123\n",
      "Ряд является стационарным\n"
     ]
    }
   ],
   "source": [
    "for i in X28_40.columns:\n",
    "    fuller(df28_40, i)"
   ]
  },
  {
   "cell_type": "code",
   "execution_count": 125,
   "metadata": {},
   "outputs": [
    {
     "name": "stdout",
     "output_type": "stream",
     "text": [
      "Статистика Дики-Фуллера: 0.375527\n",
      "Р-value: 0.980556\n",
      "Ряд не является стационарным\n",
      "Статистика Дики-Фуллера: -107.543431\n",
      "Р-value: 0.000000\n",
      "Ряд является стационарным\n",
      "Статистика Дики-Фуллера: 1.347399\n",
      "Р-value: 0.996862\n",
      "Ряд не является стационарным\n",
      "Статистика Дики-Фуллера: -4.423451\n",
      "Р-value: 0.000270\n",
      "Ряд является стационарным\n",
      "Статистика Дики-Фуллера: -4.611659\n",
      "Р-value: 0.000123\n",
      "Ряд является стационарным\n"
     ]
    }
   ],
   "source": [
    "new_df28_40 = pd.DataFrame()\n",
    "for i in X28_40.columns:\n",
    "    ts = df28_40[f'{i}']\n",
    "    new_df28_40[f'{i}'] = to_stationary(ts)  "
   ]
  },
  {
   "cell_type": "code",
   "execution_count": 129,
   "metadata": {},
   "outputs": [
    {
     "name": "stdout",
     "output_type": "stream",
     "text": [
      "Статистика Дики-Фуллера: 0.375527\n",
      "Р-value: 0.980556\n",
      "Ряд не является стационарным\n",
      "Статистика Дики-Фуллера: 1.347399\n",
      "Р-value: 0.996862\n",
      "Ряд не является стационарным\n",
      "Статистика Дики-Фуллера: -4.611659\n",
      "Р-value: 0.000123\n",
      "Ряд является стационарным\n"
     ]
    }
   ],
   "source": [
    "for i in X50_67.columns:\n",
    "    fuller(df50_67[f'{i}'])"
   ]
  },
  {
   "cell_type": "code",
   "execution_count": 130,
   "metadata": {},
   "outputs": [
    {
     "name": "stdout",
     "output_type": "stream",
     "text": [
      "Статистика Дики-Фуллера: 0.375527\n",
      "Р-value: 0.980556\n",
      "Ряд не является стационарным\n",
      "Статистика Дики-Фуллера: -107.543431\n",
      "Р-value: 0.000000\n",
      "Ряд является стационарным\n",
      "Статистика Дики-Фуллера: 1.347399\n",
      "Р-value: 0.996862\n",
      "Ряд не является стационарным\n",
      "Статистика Дики-Фуллера: -4.423451\n",
      "Р-value: 0.000270\n",
      "Ряд является стационарным\n",
      "Статистика Дики-Фуллера: -4.611659\n",
      "Р-value: 0.000123\n",
      "Ряд является стационарным\n"
     ]
    }
   ],
   "source": [
    "new_df50_67 = pd.DataFrame()\n",
    "for i in X50_67.columns:\n",
    "    ts = df50_67[f'{i}']\n",
    "    new_df50_67[f'{i}'] = to_stationary(ts) "
   ]
  },
  {
   "cell_type": "code",
   "execution_count": 133,
   "metadata": {},
   "outputs": [
    {
     "name": "stdout",
     "output_type": "stream",
     "text": [
      "Статистика Дики-Фуллера: 0.375527\n",
      "Р-value: 0.980556\n",
      "Ряд не является стационарным\n",
      "Статистика Дики-Фуллера: 1.347399\n",
      "Р-value: 0.996862\n",
      "Ряд не является стационарным\n",
      "Статистика Дики-Фуллера: -4.611659\n",
      "Р-value: 0.000123\n",
      "Ряд является стационарным\n"
     ]
    }
   ],
   "source": [
    "for i in X72_83.columns:\n",
    "    fuller(df72_83[f'{i}'])"
   ]
  },
  {
   "cell_type": "code",
   "execution_count": 134,
   "metadata": {},
   "outputs": [
    {
     "name": "stdout",
     "output_type": "stream",
     "text": [
      "Статистика Дики-Фуллера: 0.375527\n",
      "Р-value: 0.980556\n",
      "Ряд не является стационарным\n",
      "Статистика Дики-Фуллера: -107.543431\n",
      "Р-value: 0.000000\n",
      "Ряд является стационарным\n",
      "Статистика Дики-Фуллера: 1.347399\n",
      "Р-value: 0.996862\n",
      "Ряд не является стационарным\n",
      "Статистика Дики-Фуллера: -4.423451\n",
      "Р-value: 0.000270\n",
      "Ряд является стационарным\n",
      "Статистика Дики-Фуллера: -4.611659\n",
      "Р-value: 0.000123\n",
      "Ряд является стационарным\n"
     ]
    }
   ],
   "source": [
    "new_df72_83 = pd.DataFrame()\n",
    "for i in X72_83.columns:\n",
    "    ts = df72_83[f'{i}']\n",
    "    new_df72_83[f'{i}'] = to_stationary(ts) "
   ]
  },
  {
   "cell_type": "markdown",
   "metadata": {},
   "source": [
    "### Итог - приведение к стационарности "
   ]
  },
  {
   "cell_type": "code",
   "execution_count": 135,
   "metadata": {
    "scrolled": true
   },
   "outputs": [
    {
     "name": "stdout",
     "output_type": "stream",
     "text": [
      "Статистика Дики-Фуллера: -107.543431\n",
      "Р-value: 0.000000\n",
      "Ряд является стационарным\n",
      "Статистика Дики-Фуллера: -4.423451\n",
      "Р-value: 0.000270\n",
      "Ряд является стационарным\n",
      "Статистика Дики-Фуллера: -6.724240\n",
      "Р-value: 0.000000\n",
      "Ряд является стационарным\n"
     ]
    }
   ],
   "source": [
    "for i in X.columns:\n",
    "    fuller(new_df[f'{i}'])"
   ]
  },
  {
   "cell_type": "markdown",
   "metadata": {},
   "source": [
    "### Вывод\n",
    "\n",
    "Возьмем уровень значимости = 0.05\n",
    "\n",
    "Если P-value > 0.05, то гипотеза Н0 о стационарности ряда принимается и ряд не стационарен \n",
    "\n",
    "Если P-value < 0.05, то гипотеза Н0 о стационарности ряда отвергается и ряд стационарен \n",
    "\n",
    "Следовательно, в нашем случае делаем вывод, что наш ряд нестационарен"
   ]
  },
  {
   "cell_type": "markdown",
   "metadata": {},
   "source": [
    "### 5. Проверка наличия тренда с помощью: Критерия серий, основанный на медиане, Метода проверки разности средних уровней, Метода Фостера-Стьюарта"
   ]
  },
  {
   "cell_type": "markdown",
   "metadata": {},
   "source": [
    "**Фостер-Стьюарт**"
   ]
  },
  {
   "cell_type": "code",
   "execution_count": 44,
   "metadata": {},
   "outputs": [],
   "source": [
    "def Forrest_Stuart(df, column):\n",
    "    # Вычисление первых разностей\n",
    "    df['Diff_Y'] = df[column].diff()\n",
    "    # Вычисление автокорреляции первых разностей\n",
    "    acf_diff = acf(df['Diff_Y'].dropna())\n",
    "    # Вычисление статистики теста Фостера-Стьюарта\n",
    "    test_statistic = np.sum(acf_diff[1:] ** 2) * len(df)\n",
    "\n",
    "    # Критическое значение для уровня значимости 0.05\n",
    "    critical_value = 1.036\n",
    "    critical_value = t.ppf(0.95 , len(df)-1) \n",
    "\n",
    "    # Проверка наличия тренда\n",
    "    if test_statistic > critical_value:\n",
    "        print(\"Есть тренд\")\n",
    "    else:\n",
    "        print(\"Тренд отсутствует\")\n",
    "    print(f'статистика равна: {test_statistic}')\n",
    "    print(f'критическое значение равно: {critical_value}')"
   ]
  },
  {
   "cell_type": "code",
   "execution_count": 137,
   "metadata": {},
   "outputs": [
    {
     "name": "stdout",
     "output_type": "stream",
     "text": [
      "Есть тренд\n",
      "статистика равна: 3.221061300351435\n",
      "критическое значение равно: 1.8124611228107335\n",
      "Есть тренд\n",
      "статистика равна: 4.319862711743881\n",
      "критическое значение равно: 1.8124611228107335\n",
      "Есть тренд\n",
      "статистика равна: 2.559838762359781\n",
      "критическое значение равно: 1.8124611228107335\n"
     ]
    }
   ],
   "source": [
    "for i in X.columns:\n",
    "    Forrest_Stuart(df, i)"
   ]
  },
  {
   "cell_type": "code",
   "execution_count": 138,
   "metadata": {},
   "outputs": [
    {
     "name": "stdout",
     "output_type": "stream",
     "text": [
      "Есть тренд\n",
      "статистика равна: 6.580493024736567\n",
      "критическое значение равно: 1.8331129326536335\n",
      "Есть тренд\n",
      "статистика равна: 4.649729892691427\n",
      "критическое значение равно: 1.8331129326536335\n",
      "Тренд отсутствует\n",
      "статистика равна: 1.5478975353223368\n",
      "критическое значение равно: 1.8331129326536335\n"
     ]
    }
   ],
   "source": [
    "for i in X.columns:\n",
    "    Forrest_Stuart(new_df, i)"
   ]
  },
  {
   "cell_type": "code",
   "execution_count": 46,
   "metadata": {},
   "outputs": [
    {
     "name": "stdout",
     "output_type": "stream",
     "text": [
      "Есть тренд\n",
      "статистика равна: 3.221061300351435\n",
      "критическое значение равно: 1.8124611228107335\n",
      "Есть тренд\n",
      "статистика равна: 4.319862711743881\n",
      "критическое значение равно: 1.8124611228107335\n",
      "Есть тренд\n",
      "статистика равна: 2.559838762359781\n",
      "критическое значение равно: 1.8124611228107335\n"
     ]
    }
   ],
   "source": [
    "for i in X28_40.columns:\n",
    "    Forrest_Stuart(df28_40, i)"
   ]
  },
  {
   "cell_type": "code",
   "execution_count": 47,
   "metadata": {},
   "outputs": [
    {
     "name": "stdout",
     "output_type": "stream",
     "text": [
      "Есть тренд\n",
      "статистика равна: 3.221061300351435\n",
      "критическое значение равно: 1.8124611228107335\n",
      "Есть тренд\n",
      "статистика равна: 4.319862711743881\n",
      "критическое значение равно: 1.8124611228107335\n",
      "Есть тренд\n",
      "статистика равна: 2.559838762359781\n",
      "критическое значение равно: 1.8124611228107335\n"
     ]
    }
   ],
   "source": [
    "for i in X50_67.columns:\n",
    "    Forrest_Stuart(df50_67, i)"
   ]
  },
  {
   "cell_type": "code",
   "execution_count": 48,
   "metadata": {},
   "outputs": [
    {
     "name": "stdout",
     "output_type": "stream",
     "text": [
      "Есть тренд\n",
      "статистика равна: 3.221061300351435\n",
      "критическое значение равно: 1.8124611228107335\n",
      "Есть тренд\n",
      "статистика равна: 4.319862711743881\n",
      "критическое значение равно: 1.8124611228107335\n",
      "Есть тренд\n",
      "статистика равна: 2.559838762359781\n",
      "критическое значение равно: 1.8124611228107335\n"
     ]
    }
   ],
   "source": [
    "for i in X72_83.columns:\n",
    "    Forrest_Stuart(df72_83, i)"
   ]
  },
  {
   "cell_type": "markdown",
   "metadata": {},
   "source": [
    "**Вывод:**\n",
    "\n",
    "Для проведения теста Фостера-Стьюарта, для начала, необохимо рассчитать разности значение (для каждого наблюдения из текущего вычитается предыдущее). Затем вычисляются автокорреляции разностей, статистика теста Фостера-Стьюарта, которая получилась равной (test_statistic).\n",
    "Находится критическое значение для уровня значимости 0.05, оно равно critical_value.\n",
    "\n",
    "И производится проверка. Если test_statistic > critical_value, то тренд присутствует, если нет, то отсутсвтует. \n",
    "\n",
    "- Для всех данныз мы наблидаем наличие тренда"
   ]
  },
  {
   "cell_type": "markdown",
   "metadata": {},
   "source": [
    "***"
   ]
  },
  {
   "cell_type": "markdown",
   "metadata": {},
   "source": [
    "### Построение  эконометрических моделей "
   ]
  },
  {
   "cell_type": "markdown",
   "metadata": {},
   "source": [
    "### 6.1 ARIMAX "
   ]
  },
  {
   "cell_type": "code",
   "execution_count": 9,
   "metadata": {},
   "outputs": [],
   "source": [
    "import statsmodels.api as sm"
   ]
  },
  {
   "cell_type": "markdown",
   "metadata": {},
   "source": [
    "### 1. Датсет: Импорт России важнейших товаров"
   ]
  },
  {
   "cell_type": "markdown",
   "metadata": {},
   "source": [
    "#### ARIMAX. Подбор параметров"
   ]
  },
  {
   "cell_type": "markdown",
   "metadata": {},
   "source": [
    "Для подбора оптимальных параметров модели SARIMAX можно использовать перебор различных комбинаций параметров и оценку их производительности. Библиотека statsmodels предоставляет удобные средства для этого, но нам также потребуется написать некоторые дополнительные функции для автоматизации процесса. В данном примере, мы сосредоточимся на подборе параметров p, d, q для основной части модели и P, D, Q и s для сезонной части.\n",
    "\n",
    "Выберем лучшую модель с помощью информационного критерия Акаике\n"
   ]
  },
  {
   "cell_type": "code",
   "execution_count": 9,
   "metadata": {},
   "outputs": [
    {
     "name": "stdout",
     "output_type": "stream",
     "text": [
      "ARIMA(0, 0, 0)x(0, 0, 0, 12) - AIC:195.16259338777732\n",
      "ARIMA(0, 0, 0)x(0, 0, 1, 12) - AIC:8.0\n",
      "ARIMA(0, 0, 0)x(0, 0, 2, 12) - AIC:10.0\n",
      "ARIMA(0, 0, 0)x(0, 1, 0, 12) - AIC:6.0\n",
      "ARIMA(0, 0, 0)x(0, 1, 1, 12) - AIC:8.0\n",
      "ARIMA(0, 0, 0)x(0, 1, 2, 12) - AIC:10.0\n",
      "ARIMA(0, 0, 0)x(0, 2, 0, 12) - AIC:6.0\n",
      "ARIMA(0, 0, 0)x(0, 2, 1, 12) - AIC:8.0\n",
      "ARIMA(0, 0, 0)x(0, 2, 2, 12) - AIC:10.0\n",
      "ARIMA(0, 0, 0)x(1, 0, 0, 12) - AIC:8.0\n",
      "ARIMA(0, 0, 0)x(1, 0, 1, 12) - AIC:10.0\n",
      "ARIMA(0, 0, 0)x(1, 0, 2, 12) - AIC:12.0\n",
      "ARIMA(0, 0, 0)x(1, 1, 0, 12) - AIC:8.0\n",
      "ARIMA(0, 0, 0)x(1, 1, 1, 12) - AIC:10.0\n",
      "ARIMA(0, 0, 0)x(1, 1, 2, 12) - AIC:12.0\n",
      "ARIMA(0, 0, 0)x(1, 2, 0, 12) - AIC:8.0\n",
      "ARIMA(0, 0, 0)x(1, 2, 1, 12) - AIC:10.0\n",
      "ARIMA(0, 0, 0)x(1, 2, 2, 12) - AIC:12.0\n",
      "ARIMA(0, 0, 0)x(2, 0, 0, 12) - AIC:10.0\n",
      "ARIMA(0, 0, 0)x(2, 0, 1, 12) - AIC:12.0\n",
      "ARIMA(0, 0, 0)x(2, 0, 2, 12) - AIC:14.0\n",
      "ARIMA(0, 0, 0)x(2, 1, 0, 12) - AIC:10.0\n",
      "ARIMA(0, 0, 0)x(2, 1, 1, 12) - AIC:12.0\n",
      "ARIMA(0, 0, 0)x(2, 1, 2, 12) - AIC:14.0\n",
      "ARIMA(0, 0, 0)x(2, 2, 0, 12) - AIC:10.0\n",
      "ARIMA(0, 0, 0)x(2, 2, 1, 12) - AIC:12.0\n",
      "ARIMA(0, 0, 0)x(2, 2, 2, 12) - AIC:14.0\n",
      "ARIMA(0, 0, 1)x(0, 0, 0, 12) - AIC:176.83691407625946\n",
      "ARIMA(0, 0, 1)x(0, 0, 1, 12) - AIC:10.0\n",
      "ARIMA(0, 0, 1)x(0, 0, 2, 12) - AIC:12.0\n",
      "ARIMA(0, 0, 1)x(0, 1, 0, 12) - AIC:8.0\n",
      "ARIMA(0, 0, 1)x(0, 1, 1, 12) - AIC:10.0\n",
      "ARIMA(0, 0, 1)x(0, 1, 2, 12) - AIC:12.0\n",
      "ARIMA(0, 0, 1)x(0, 2, 0, 12) - AIC:8.0\n",
      "ARIMA(0, 0, 1)x(0, 2, 1, 12) - AIC:10.0\n",
      "ARIMA(0, 0, 1)x(0, 2, 2, 12) - AIC:12.0\n",
      "ARIMA(0, 0, 1)x(1, 0, 0, 12) - AIC:10.0\n",
      "ARIMA(0, 0, 1)x(1, 0, 1, 12) - AIC:12.0\n",
      "ARIMA(0, 0, 1)x(1, 0, 2, 12) - AIC:14.0\n",
      "ARIMA(0, 0, 1)x(1, 1, 0, 12) - AIC:10.0\n",
      "ARIMA(0, 0, 1)x(1, 1, 1, 12) - AIC:12.0\n",
      "ARIMA(0, 0, 1)x(1, 1, 2, 12) - AIC:14.0\n",
      "ARIMA(0, 0, 1)x(1, 2, 0, 12) - AIC:10.0\n",
      "ARIMA(0, 0, 1)x(1, 2, 1, 12) - AIC:12.0\n",
      "ARIMA(0, 0, 1)x(1, 2, 2, 12) - AIC:14.0\n",
      "ARIMA(0, 0, 1)x(2, 0, 0, 12) - AIC:12.0\n",
      "ARIMA(0, 0, 1)x(2, 0, 1, 12) - AIC:14.0\n",
      "ARIMA(0, 0, 1)x(2, 0, 2, 12) - AIC:16.0\n",
      "ARIMA(0, 0, 1)x(2, 1, 0, 12) - AIC:12.0\n",
      "ARIMA(0, 0, 1)x(2, 1, 1, 12) - AIC:14.0\n",
      "ARIMA(0, 0, 1)x(2, 1, 2, 12) - AIC:16.0\n",
      "ARIMA(0, 0, 1)x(2, 2, 0, 12) - AIC:12.0\n",
      "ARIMA(0, 0, 1)x(2, 2, 1, 12) - AIC:14.0\n",
      "ARIMA(0, 0, 1)x(2, 2, 2, 12) - AIC:16.0\n",
      "ARIMA(0, 0, 2)x(0, 0, 0, 12) - AIC:158.54973068713522\n",
      "ARIMA(0, 0, 2)x(0, 0, 1, 12) - AIC:12.0\n",
      "ARIMA(0, 0, 2)x(0, 0, 2, 12) - AIC:14.0\n",
      "ARIMA(0, 0, 2)x(0, 1, 0, 12) - AIC:10.0\n",
      "ARIMA(0, 0, 2)x(0, 1, 1, 12) - AIC:12.0\n",
      "ARIMA(0, 0, 2)x(0, 1, 2, 12) - AIC:14.0\n",
      "ARIMA(0, 0, 2)x(0, 2, 0, 12) - AIC:10.0\n",
      "ARIMA(0, 0, 2)x(0, 2, 1, 12) - AIC:12.0\n",
      "ARIMA(0, 0, 2)x(0, 2, 2, 12) - AIC:14.0\n",
      "ARIMA(0, 0, 2)x(1, 0, 0, 12) - AIC:12.0\n",
      "ARIMA(0, 0, 2)x(1, 0, 1, 12) - AIC:14.0\n",
      "ARIMA(0, 0, 2)x(1, 0, 2, 12) - AIC:16.0\n",
      "ARIMA(0, 0, 2)x(1, 1, 0, 12) - AIC:12.0\n",
      "ARIMA(0, 0, 2)x(1, 1, 1, 12) - AIC:14.0\n",
      "ARIMA(0, 0, 2)x(1, 1, 2, 12) - AIC:16.0\n",
      "ARIMA(0, 0, 2)x(1, 2, 0, 12) - AIC:12.0\n",
      "ARIMA(0, 0, 2)x(1, 2, 1, 12) - AIC:14.0\n",
      "ARIMA(0, 0, 2)x(1, 2, 2, 12) - AIC:16.0\n",
      "ARIMA(0, 0, 2)x(2, 0, 0, 12) - AIC:14.0\n",
      "ARIMA(0, 0, 2)x(2, 0, 1, 12) - AIC:16.0\n",
      "ARIMA(0, 0, 2)x(2, 0, 2, 12) - AIC:18.0\n",
      "ARIMA(0, 0, 2)x(2, 1, 0, 12) - AIC:14.0\n",
      "ARIMA(0, 0, 2)x(2, 1, 1, 12) - AIC:16.0\n",
      "ARIMA(0, 0, 2)x(2, 1, 2, 12) - AIC:18.0\n",
      "ARIMA(0, 0, 2)x(2, 2, 0, 12) - AIC:14.0\n",
      "ARIMA(0, 0, 2)x(2, 2, 1, 12) - AIC:16.0\n",
      "ARIMA(0, 0, 2)x(2, 2, 2, 12) - AIC:18.0\n",
      "ARIMA(0, 1, 0)x(0, 0, 0, 12) - AIC:177.25015518072541\n",
      "ARIMA(0, 1, 0)x(0, 0, 1, 12) - AIC:8.0\n",
      "ARIMA(0, 1, 0)x(0, 0, 2, 12) - AIC:10.0\n",
      "ARIMA(0, 1, 0)x(0, 1, 0, 12) - AIC:6.0\n",
      "ARIMA(0, 1, 0)x(0, 1, 1, 12) - AIC:8.0\n",
      "ARIMA(0, 1, 0)x(0, 1, 2, 12) - AIC:10.0\n",
      "ARIMA(0, 1, 0)x(0, 2, 0, 12) - AIC:6.0\n",
      "ARIMA(0, 1, 0)x(0, 2, 1, 12) - AIC:8.0\n",
      "ARIMA(0, 1, 0)x(0, 2, 2, 12) - AIC:10.0\n",
      "ARIMA(0, 1, 0)x(1, 0, 0, 12) - AIC:8.0\n",
      "ARIMA(0, 1, 0)x(1, 0, 1, 12) - AIC:10.0\n",
      "ARIMA(0, 1, 0)x(1, 0, 2, 12) - AIC:12.0\n",
      "ARIMA(0, 1, 0)x(1, 1, 0, 12) - AIC:8.0\n",
      "ARIMA(0, 1, 0)x(1, 1, 1, 12) - AIC:10.0\n",
      "ARIMA(0, 1, 0)x(1, 1, 2, 12) - AIC:12.0\n",
      "ARIMA(0, 1, 0)x(1, 2, 0, 12) - AIC:8.0\n",
      "ARIMA(0, 1, 0)x(1, 2, 1, 12) - AIC:10.0\n",
      "ARIMA(0, 1, 0)x(1, 2, 2, 12) - AIC:12.0\n",
      "ARIMA(0, 1, 0)x(2, 0, 0, 12) - AIC:10.0\n",
      "ARIMA(0, 1, 0)x(2, 0, 1, 12) - AIC:12.0\n",
      "ARIMA(0, 1, 0)x(2, 0, 2, 12) - AIC:14.0\n",
      "ARIMA(0, 1, 0)x(2, 1, 0, 12) - AIC:10.0\n",
      "ARIMA(0, 1, 0)x(2, 1, 1, 12) - AIC:12.0\n",
      "ARIMA(0, 1, 0)x(2, 1, 2, 12) - AIC:14.0\n",
      "ARIMA(0, 1, 0)x(2, 2, 0, 12) - AIC:10.0\n",
      "ARIMA(0, 1, 0)x(2, 2, 1, 12) - AIC:12.0\n",
      "ARIMA(0, 1, 0)x(2, 2, 2, 12) - AIC:14.0\n",
      "ARIMA(0, 1, 1)x(0, 0, 0, 12) - AIC:158.3401226679165\n",
      "ARIMA(0, 1, 1)x(0, 0, 1, 12) - AIC:10.0\n",
      "ARIMA(0, 1, 1)x(0, 0, 2, 12) - AIC:12.0\n",
      "ARIMA(0, 1, 1)x(0, 1, 0, 12) - AIC:8.0\n",
      "ARIMA(0, 1, 1)x(0, 1, 1, 12) - AIC:10.0\n",
      "ARIMA(0, 1, 1)x(0, 1, 2, 12) - AIC:12.0\n",
      "ARIMA(0, 1, 1)x(0, 2, 0, 12) - AIC:8.0\n",
      "ARIMA(0, 1, 1)x(0, 2, 1, 12) - AIC:10.0\n",
      "ARIMA(0, 1, 1)x(0, 2, 2, 12) - AIC:12.0\n",
      "ARIMA(0, 1, 1)x(1, 0, 0, 12) - AIC:10.0\n",
      "ARIMA(0, 1, 1)x(1, 0, 1, 12) - AIC:12.0\n",
      "ARIMA(0, 1, 1)x(1, 0, 2, 12) - AIC:14.0\n",
      "ARIMA(0, 1, 1)x(1, 1, 0, 12) - AIC:10.0\n",
      "ARIMA(0, 1, 1)x(1, 1, 1, 12) - AIC:12.0\n",
      "ARIMA(0, 1, 1)x(1, 1, 2, 12) - AIC:14.0\n",
      "ARIMA(0, 1, 1)x(1, 2, 0, 12) - AIC:10.0\n",
      "ARIMA(0, 1, 1)x(1, 2, 1, 12) - AIC:12.0\n",
      "ARIMA(0, 1, 1)x(1, 2, 2, 12) - AIC:14.0\n",
      "ARIMA(0, 1, 1)x(2, 0, 0, 12) - AIC:12.0\n",
      "ARIMA(0, 1, 1)x(2, 0, 1, 12) - AIC:14.0\n",
      "ARIMA(0, 1, 1)x(2, 0, 2, 12) - AIC:16.0\n",
      "ARIMA(0, 1, 1)x(2, 1, 0, 12) - AIC:12.0\n",
      "ARIMA(0, 1, 1)x(2, 1, 1, 12) - AIC:14.0\n",
      "ARIMA(0, 1, 1)x(2, 1, 2, 12) - AIC:16.0\n",
      "ARIMA(0, 1, 1)x(2, 2, 0, 12) - AIC:12.0\n",
      "ARIMA(0, 1, 1)x(2, 2, 1, 12) - AIC:14.0\n",
      "ARIMA(0, 1, 1)x(2, 2, 2, 12) - AIC:16.0\n",
      "ARIMA(0, 1, 2)x(0, 0, 0, 12) - AIC:142.40154081546808\n",
      "ARIMA(0, 1, 2)x(0, 0, 1, 12) - AIC:12.0\n",
      "ARIMA(0, 1, 2)x(0, 0, 2, 12) - AIC:14.0\n",
      "ARIMA(0, 1, 2)x(0, 1, 0, 12) - AIC:10.0\n",
      "ARIMA(0, 1, 2)x(0, 1, 1, 12) - AIC:12.0\n",
      "ARIMA(0, 1, 2)x(0, 1, 2, 12) - AIC:14.0\n",
      "ARIMA(0, 1, 2)x(0, 2, 0, 12) - AIC:10.0\n",
      "ARIMA(0, 1, 2)x(0, 2, 1, 12) - AIC:12.0\n",
      "ARIMA(0, 1, 2)x(0, 2, 2, 12) - AIC:14.0\n",
      "ARIMA(0, 1, 2)x(1, 0, 0, 12) - AIC:12.0\n",
      "ARIMA(0, 1, 2)x(1, 0, 1, 12) - AIC:14.0\n",
      "ARIMA(0, 1, 2)x(1, 0, 2, 12) - AIC:16.0\n",
      "ARIMA(0, 1, 2)x(1, 1, 0, 12) - AIC:12.0\n",
      "ARIMA(0, 1, 2)x(1, 1, 1, 12) - AIC:14.0\n",
      "ARIMA(0, 1, 2)x(1, 1, 2, 12) - AIC:16.0\n",
      "ARIMA(0, 1, 2)x(1, 2, 0, 12) - AIC:12.0\n",
      "ARIMA(0, 1, 2)x(1, 2, 1, 12) - AIC:14.0\n",
      "ARIMA(0, 1, 2)x(1, 2, 2, 12) - AIC:16.0\n",
      "ARIMA(0, 1, 2)x(2, 0, 0, 12) - AIC:14.0\n",
      "ARIMA(0, 1, 2)x(2, 0, 1, 12) - AIC:16.0\n",
      "ARIMA(0, 1, 2)x(2, 0, 2, 12) - AIC:18.0\n",
      "ARIMA(0, 1, 2)x(2, 1, 0, 12) - AIC:14.0\n",
      "ARIMA(0, 1, 2)x(2, 1, 1, 12) - AIC:16.0\n",
      "ARIMA(0, 1, 2)x(2, 1, 2, 12) - AIC:18.0\n",
      "ARIMA(0, 1, 2)x(2, 2, 0, 12) - AIC:14.0\n",
      "ARIMA(0, 1, 2)x(2, 2, 1, 12) - AIC:16.0\n",
      "ARIMA(0, 1, 2)x(2, 2, 2, 12) - AIC:18.0\n",
      "ARIMA(0, 2, 0)x(0, 0, 0, 12) - AIC:153.5308886775839\n",
      "ARIMA(0, 2, 0)x(0, 0, 1, 12) - AIC:8.0\n",
      "ARIMA(0, 2, 0)x(0, 0, 2, 12) - AIC:10.0\n",
      "ARIMA(0, 2, 0)x(0, 1, 0, 12) - AIC:6.0\n",
      "ARIMA(0, 2, 0)x(0, 1, 1, 12) - AIC:8.0\n",
      "ARIMA(0, 2, 0)x(0, 1, 2, 12) - AIC:10.0\n",
      "ARIMA(0, 2, 0)x(0, 2, 0, 12) - AIC:6.0\n",
      "ARIMA(0, 2, 0)x(0, 2, 1, 12) - AIC:8.0\n",
      "ARIMA(0, 2, 0)x(0, 2, 2, 12) - AIC:10.0\n",
      "ARIMA(0, 2, 0)x(1, 0, 0, 12) - AIC:8.0\n",
      "ARIMA(0, 2, 0)x(1, 0, 1, 12) - AIC:10.0\n",
      "ARIMA(0, 2, 0)x(1, 0, 2, 12) - AIC:12.0\n",
      "ARIMA(0, 2, 0)x(1, 1, 0, 12) - AIC:8.0\n",
      "ARIMA(0, 2, 0)x(1, 1, 1, 12) - AIC:10.0\n",
      "ARIMA(0, 2, 0)x(1, 1, 2, 12) - AIC:12.0\n",
      "ARIMA(0, 2, 0)x(1, 2, 0, 12) - AIC:8.0\n",
      "ARIMA(0, 2, 0)x(1, 2, 1, 12) - AIC:10.0\n",
      "ARIMA(0, 2, 0)x(1, 2, 2, 12) - AIC:12.0\n",
      "ARIMA(0, 2, 0)x(2, 0, 0, 12) - AIC:10.0\n",
      "ARIMA(0, 2, 0)x(2, 0, 1, 12) - AIC:12.0\n",
      "ARIMA(0, 2, 0)x(2, 0, 2, 12) - AIC:14.0\n",
      "ARIMA(0, 2, 0)x(2, 1, 0, 12) - AIC:10.0\n",
      "ARIMA(0, 2, 0)x(2, 1, 1, 12) - AIC:12.0\n",
      "ARIMA(0, 2, 0)x(2, 1, 2, 12) - AIC:14.0\n",
      "ARIMA(0, 2, 0)x(2, 2, 0, 12) - AIC:10.0\n",
      "ARIMA(0, 2, 0)x(2, 2, 1, 12) - AIC:12.0\n",
      "ARIMA(0, 2, 0)x(2, 2, 2, 12) - AIC:14.0\n",
      "ARIMA(0, 2, 1)x(0, 0, 0, 12) - AIC:127.20231932679545\n",
      "ARIMA(0, 2, 1)x(0, 0, 1, 12) - AIC:10.0\n",
      "ARIMA(0, 2, 1)x(0, 0, 2, 12) - AIC:12.0\n",
      "ARIMA(0, 2, 1)x(0, 1, 0, 12) - AIC:8.0\n",
      "ARIMA(0, 2, 1)x(0, 1, 1, 12) - AIC:10.0\n",
      "ARIMA(0, 2, 1)x(0, 1, 2, 12) - AIC:12.0\n",
      "ARIMA(0, 2, 1)x(0, 2, 0, 12) - AIC:8.0\n",
      "ARIMA(0, 2, 1)x(0, 2, 1, 12) - AIC:10.0\n",
      "ARIMA(0, 2, 1)x(0, 2, 2, 12) - AIC:12.0\n",
      "ARIMA(0, 2, 1)x(1, 0, 0, 12) - AIC:10.0\n",
      "ARIMA(0, 2, 1)x(1, 0, 1, 12) - AIC:12.0\n",
      "ARIMA(0, 2, 1)x(1, 0, 2, 12) - AIC:14.0\n",
      "ARIMA(0, 2, 1)x(1, 1, 0, 12) - AIC:10.0\n",
      "ARIMA(0, 2, 1)x(1, 1, 1, 12) - AIC:12.0\n",
      "ARIMA(0, 2, 1)x(1, 1, 2, 12) - AIC:14.0\n",
      "ARIMA(0, 2, 1)x(1, 2, 0, 12) - AIC:10.0\n",
      "ARIMA(0, 2, 1)x(1, 2, 1, 12) - AIC:12.0\n",
      "ARIMA(0, 2, 1)x(1, 2, 2, 12) - AIC:14.0\n",
      "ARIMA(0, 2, 1)x(2, 0, 0, 12) - AIC:12.0\n",
      "ARIMA(0, 2, 1)x(2, 0, 1, 12) - AIC:14.0\n",
      "ARIMA(0, 2, 1)x(2, 0, 2, 12) - AIC:16.0\n",
      "ARIMA(0, 2, 1)x(2, 1, 0, 12) - AIC:12.0\n",
      "ARIMA(0, 2, 1)x(2, 1, 1, 12) - AIC:14.0\n",
      "ARIMA(0, 2, 1)x(2, 1, 2, 12) - AIC:16.0\n",
      "ARIMA(0, 2, 1)x(2, 2, 0, 12) - AIC:12.0\n",
      "ARIMA(0, 2, 1)x(2, 2, 1, 12) - AIC:14.0\n",
      "ARIMA(0, 2, 1)x(2, 2, 2, 12) - AIC:16.0\n",
      "ARIMA(0, 2, 2)x(0, 0, 0, 12) - AIC:109.18539785823629\n",
      "ARIMA(0, 2, 2)x(0, 0, 1, 12) - AIC:12.0\n",
      "ARIMA(0, 2, 2)x(0, 0, 2, 12) - AIC:14.0\n",
      "ARIMA(0, 2, 2)x(0, 1, 0, 12) - AIC:10.0\n",
      "ARIMA(0, 2, 2)x(0, 1, 1, 12) - AIC:12.0\n",
      "ARIMA(0, 2, 2)x(0, 1, 2, 12) - AIC:14.0\n",
      "ARIMA(0, 2, 2)x(0, 2, 0, 12) - AIC:10.0\n",
      "ARIMA(0, 2, 2)x(0, 2, 1, 12) - AIC:12.0\n",
      "ARIMA(0, 2, 2)x(0, 2, 2, 12) - AIC:14.0\n",
      "ARIMA(0, 2, 2)x(1, 0, 0, 12) - AIC:12.0\n",
      "ARIMA(0, 2, 2)x(1, 0, 1, 12) - AIC:14.0\n",
      "ARIMA(0, 2, 2)x(1, 0, 2, 12) - AIC:16.0\n",
      "ARIMA(0, 2, 2)x(1, 1, 0, 12) - AIC:12.0\n",
      "ARIMA(0, 2, 2)x(1, 1, 1, 12) - AIC:14.0\n",
      "ARIMA(0, 2, 2)x(1, 1, 2, 12) - AIC:16.0\n",
      "ARIMA(0, 2, 2)x(1, 2, 0, 12) - AIC:12.0\n",
      "ARIMA(0, 2, 2)x(1, 2, 1, 12) - AIC:14.0\n",
      "ARIMA(0, 2, 2)x(1, 2, 2, 12) - AIC:16.0\n",
      "ARIMA(0, 2, 2)x(2, 0, 0, 12) - AIC:14.0\n",
      "ARIMA(0, 2, 2)x(2, 0, 1, 12) - AIC:16.0\n",
      "ARIMA(0, 2, 2)x(2, 0, 2, 12) - AIC:18.0\n",
      "ARIMA(0, 2, 2)x(2, 1, 0, 12) - AIC:14.0\n",
      "ARIMA(0, 2, 2)x(2, 1, 1, 12) - AIC:16.0\n",
      "ARIMA(0, 2, 2)x(2, 1, 2, 12) - AIC:18.0\n",
      "ARIMA(0, 2, 2)x(2, 2, 0, 12) - AIC:14.0\n",
      "ARIMA(0, 2, 2)x(2, 2, 1, 12) - AIC:16.0\n",
      "ARIMA(0, 2, 2)x(2, 2, 2, 12) - AIC:18.0\n",
      "ARIMA(1, 0, 0)x(0, 0, 0, 12) - AIC:197.16271255874125\n",
      "ARIMA(1, 0, 0)x(0, 0, 1, 12) - AIC:10.0\n",
      "ARIMA(1, 0, 0)x(0, 0, 2, 12) - AIC:12.0\n",
      "ARIMA(1, 0, 0)x(0, 1, 0, 12) - AIC:8.0\n",
      "ARIMA(1, 0, 0)x(0, 1, 1, 12) - AIC:10.0\n",
      "ARIMA(1, 0, 0)x(0, 1, 2, 12) - AIC:12.0\n",
      "ARIMA(1, 0, 0)x(0, 2, 0, 12) - AIC:8.0\n",
      "ARIMA(1, 0, 0)x(0, 2, 1, 12) - AIC:10.0\n",
      "ARIMA(1, 0, 0)x(0, 2, 2, 12) - AIC:12.0\n",
      "ARIMA(1, 0, 0)x(1, 0, 0, 12) - AIC:10.0\n",
      "ARIMA(1, 0, 0)x(1, 0, 1, 12) - AIC:12.0\n",
      "ARIMA(1, 0, 0)x(1, 0, 2, 12) - AIC:14.0\n",
      "ARIMA(1, 0, 0)x(1, 1, 0, 12) - AIC:10.0\n",
      "ARIMA(1, 0, 0)x(1, 1, 1, 12) - AIC:12.0\n",
      "ARIMA(1, 0, 0)x(1, 1, 2, 12) - AIC:14.0\n",
      "ARIMA(1, 0, 0)x(1, 2, 0, 12) - AIC:10.0\n",
      "ARIMA(1, 0, 0)x(1, 2, 1, 12) - AIC:12.0\n",
      "ARIMA(1, 0, 0)x(1, 2, 2, 12) - AIC:14.0\n",
      "ARIMA(1, 0, 0)x(2, 0, 0, 12) - AIC:12.0\n",
      "ARIMA(1, 0, 0)x(2, 0, 1, 12) - AIC:14.0\n",
      "ARIMA(1, 0, 0)x(2, 0, 2, 12) - AIC:16.0\n",
      "ARIMA(1, 0, 0)x(2, 1, 0, 12) - AIC:12.0\n",
      "ARIMA(1, 0, 0)x(2, 1, 1, 12) - AIC:14.0\n",
      "ARIMA(1, 0, 0)x(2, 1, 2, 12) - AIC:16.0\n",
      "ARIMA(1, 0, 0)x(2, 2, 0, 12) - AIC:12.0\n",
      "ARIMA(1, 0, 0)x(2, 2, 1, 12) - AIC:14.0\n",
      "ARIMA(1, 0, 0)x(2, 2, 2, 12) - AIC:16.0\n",
      "ARIMA(1, 0, 1)x(0, 0, 0, 12) - AIC:177.92839962375493\n",
      "ARIMA(1, 0, 1)x(0, 0, 1, 12) - AIC:12.0\n",
      "ARIMA(1, 0, 1)x(0, 0, 2, 12) - AIC:14.0\n",
      "ARIMA(1, 0, 1)x(0, 1, 0, 12) - AIC:10.0\n",
      "ARIMA(1, 0, 1)x(0, 1, 1, 12) - AIC:12.0\n",
      "ARIMA(1, 0, 1)x(0, 1, 2, 12) - AIC:14.0\n",
      "ARIMA(1, 0, 1)x(0, 2, 0, 12) - AIC:10.0\n",
      "ARIMA(1, 0, 1)x(0, 2, 1, 12) - AIC:12.0\n",
      "ARIMA(1, 0, 1)x(0, 2, 2, 12) - AIC:14.0\n",
      "ARIMA(1, 0, 1)x(1, 0, 0, 12) - AIC:12.0\n",
      "ARIMA(1, 0, 1)x(1, 0, 1, 12) - AIC:14.0\n",
      "ARIMA(1, 0, 1)x(1, 0, 2, 12) - AIC:16.0\n",
      "ARIMA(1, 0, 1)x(1, 1, 0, 12) - AIC:12.0\n",
      "ARIMA(1, 0, 1)x(1, 1, 1, 12) - AIC:14.0\n",
      "ARIMA(1, 0, 1)x(1, 1, 2, 12) - AIC:16.0\n",
      "ARIMA(1, 0, 1)x(1, 2, 0, 12) - AIC:12.0\n",
      "ARIMA(1, 0, 1)x(1, 2, 1, 12) - AIC:14.0\n",
      "ARIMA(1, 0, 1)x(1, 2, 2, 12) - AIC:16.0\n",
      "ARIMA(1, 0, 1)x(2, 0, 0, 12) - AIC:14.0\n",
      "ARIMA(1, 0, 1)x(2, 0, 1, 12) - AIC:16.0\n",
      "ARIMA(1, 0, 1)x(2, 0, 2, 12) - AIC:18.0\n",
      "ARIMA(1, 0, 1)x(2, 1, 0, 12) - AIC:14.0\n",
      "ARIMA(1, 0, 1)x(2, 1, 1, 12) - AIC:16.0\n",
      "ARIMA(1, 0, 1)x(2, 1, 2, 12) - AIC:18.0\n",
      "ARIMA(1, 0, 1)x(2, 2, 0, 12) - AIC:14.0\n",
      "ARIMA(1, 0, 1)x(2, 2, 1, 12) - AIC:16.0\n",
      "ARIMA(1, 0, 1)x(2, 2, 2, 12) - AIC:18.0\n",
      "ARIMA(1, 0, 2)x(0, 0, 0, 12) - AIC:158.27896433026095\n",
      "ARIMA(1, 0, 2)x(0, 0, 1, 12) - AIC:14.0\n",
      "ARIMA(1, 0, 2)x(0, 0, 2, 12) - AIC:16.0\n",
      "ARIMA(1, 0, 2)x(0, 1, 0, 12) - AIC:12.0\n",
      "ARIMA(1, 0, 2)x(0, 1, 1, 12) - AIC:14.0\n",
      "ARIMA(1, 0, 2)x(0, 1, 2, 12) - AIC:16.0\n",
      "ARIMA(1, 0, 2)x(0, 2, 0, 12) - AIC:12.0\n",
      "ARIMA(1, 0, 2)x(0, 2, 1, 12) - AIC:14.0\n",
      "ARIMA(1, 0, 2)x(0, 2, 2, 12) - AIC:16.0\n",
      "ARIMA(1, 0, 2)x(1, 0, 0, 12) - AIC:14.0\n",
      "ARIMA(1, 0, 2)x(1, 0, 1, 12) - AIC:16.0\n",
      "ARIMA(1, 0, 2)x(1, 0, 2, 12) - AIC:18.0\n",
      "ARIMA(1, 0, 2)x(1, 1, 0, 12) - AIC:14.0\n",
      "ARIMA(1, 0, 2)x(1, 1, 1, 12) - AIC:16.0\n",
      "ARIMA(1, 0, 2)x(1, 1, 2, 12) - AIC:18.0\n",
      "ARIMA(1, 0, 2)x(1, 2, 0, 12) - AIC:14.0\n",
      "ARIMA(1, 0, 2)x(1, 2, 1, 12) - AIC:16.0\n",
      "ARIMA(1, 0, 2)x(1, 2, 2, 12) - AIC:18.0\n",
      "ARIMA(1, 0, 2)x(2, 0, 0, 12) - AIC:16.0\n",
      "ARIMA(1, 0, 2)x(2, 0, 1, 12) - AIC:18.0\n",
      "ARIMA(1, 0, 2)x(2, 0, 2, 12) - AIC:20.0\n",
      "ARIMA(1, 0, 2)x(2, 1, 0, 12) - AIC:16.0\n",
      "ARIMA(1, 0, 2)x(2, 1, 1, 12) - AIC:18.0\n",
      "ARIMA(1, 0, 2)x(2, 1, 2, 12) - AIC:20.0\n",
      "ARIMA(1, 0, 2)x(2, 2, 0, 12) - AIC:16.0\n",
      "ARIMA(1, 0, 2)x(2, 2, 1, 12) - AIC:18.0\n",
      "ARIMA(1, 0, 2)x(2, 2, 2, 12) - AIC:20.0\n",
      "ARIMA(1, 1, 0)x(0, 0, 0, 12) - AIC:174.12697815404857\n",
      "ARIMA(1, 1, 0)x(0, 0, 1, 12) - AIC:10.0\n",
      "ARIMA(1, 1, 0)x(0, 0, 2, 12) - AIC:12.0\n",
      "ARIMA(1, 1, 0)x(0, 1, 0, 12) - AIC:8.0\n",
      "ARIMA(1, 1, 0)x(0, 1, 1, 12) - AIC:10.0\n",
      "ARIMA(1, 1, 0)x(0, 1, 2, 12) - AIC:12.0\n",
      "ARIMA(1, 1, 0)x(0, 2, 0, 12) - AIC:8.0\n",
      "ARIMA(1, 1, 0)x(0, 2, 1, 12) - AIC:10.0\n",
      "ARIMA(1, 1, 0)x(0, 2, 2, 12) - AIC:12.0\n",
      "ARIMA(1, 1, 0)x(1, 0, 0, 12) - AIC:10.0\n",
      "ARIMA(1, 1, 0)x(1, 0, 1, 12) - AIC:12.0\n",
      "ARIMA(1, 1, 0)x(1, 0, 2, 12) - AIC:14.0\n",
      "ARIMA(1, 1, 0)x(1, 1, 0, 12) - AIC:10.0\n",
      "ARIMA(1, 1, 0)x(1, 1, 1, 12) - AIC:12.0\n",
      "ARIMA(1, 1, 0)x(1, 1, 2, 12) - AIC:14.0\n",
      "ARIMA(1, 1, 0)x(1, 2, 0, 12) - AIC:10.0\n",
      "ARIMA(1, 1, 0)x(1, 2, 1, 12) - AIC:12.0\n",
      "ARIMA(1, 1, 0)x(1, 2, 2, 12) - AIC:14.0\n",
      "ARIMA(1, 1, 0)x(2, 0, 0, 12) - AIC:12.0\n",
      "ARIMA(1, 1, 0)x(2, 0, 1, 12) - AIC:14.0\n",
      "ARIMA(1, 1, 0)x(2, 0, 2, 12) - AIC:16.0\n",
      "ARIMA(1, 1, 0)x(2, 1, 0, 12) - AIC:12.0\n",
      "ARIMA(1, 1, 0)x(2, 1, 1, 12) - AIC:14.0\n",
      "ARIMA(1, 1, 0)x(2, 1, 2, 12) - AIC:16.0\n",
      "ARIMA(1, 1, 0)x(2, 2, 0, 12) - AIC:12.0\n",
      "ARIMA(1, 1, 0)x(2, 2, 1, 12) - AIC:14.0\n",
      "ARIMA(1, 1, 0)x(2, 2, 2, 12) - AIC:16.0\n",
      "ARIMA(1, 1, 1)x(0, 0, 0, 12) - AIC:150.54864365560636\n",
      "ARIMA(1, 1, 1)x(0, 0, 1, 12) - AIC:12.0\n",
      "ARIMA(1, 1, 1)x(0, 0, 2, 12) - AIC:14.0\n",
      "ARIMA(1, 1, 1)x(0, 1, 0, 12) - AIC:10.0\n",
      "ARIMA(1, 1, 1)x(0, 1, 1, 12) - AIC:12.0\n",
      "ARIMA(1, 1, 1)x(0, 1, 2, 12) - AIC:14.0\n",
      "ARIMA(1, 1, 1)x(0, 2, 0, 12) - AIC:10.0\n",
      "ARIMA(1, 1, 1)x(0, 2, 1, 12) - AIC:12.0\n",
      "ARIMA(1, 1, 1)x(0, 2, 2, 12) - AIC:14.0\n",
      "ARIMA(1, 1, 1)x(1, 0, 0, 12) - AIC:12.0\n",
      "ARIMA(1, 1, 1)x(1, 0, 1, 12) - AIC:14.0\n",
      "ARIMA(1, 1, 1)x(1, 0, 2, 12) - AIC:16.0\n",
      "ARIMA(1, 1, 1)x(1, 1, 0, 12) - AIC:12.0\n",
      "ARIMA(1, 1, 1)x(1, 1, 1, 12) - AIC:14.0\n",
      "ARIMA(1, 1, 1)x(1, 1, 2, 12) - AIC:16.0\n",
      "ARIMA(1, 1, 1)x(1, 2, 0, 12) - AIC:12.0\n",
      "ARIMA(1, 1, 1)x(1, 2, 1, 12) - AIC:14.0\n",
      "ARIMA(1, 1, 1)x(1, 2, 2, 12) - AIC:16.0\n",
      "ARIMA(1, 1, 1)x(2, 0, 0, 12) - AIC:14.0\n",
      "ARIMA(1, 1, 1)x(2, 0, 1, 12) - AIC:16.0\n",
      "ARIMA(1, 1, 1)x(2, 0, 2, 12) - AIC:18.0\n",
      "ARIMA(1, 1, 1)x(2, 1, 0, 12) - AIC:14.0\n",
      "ARIMA(1, 1, 1)x(2, 1, 1, 12) - AIC:16.0\n",
      "ARIMA(1, 1, 1)x(2, 1, 2, 12) - AIC:18.0\n",
      "ARIMA(1, 1, 1)x(2, 2, 0, 12) - AIC:14.0\n",
      "ARIMA(1, 1, 1)x(2, 2, 1, 12) - AIC:16.0\n",
      "ARIMA(1, 1, 1)x(2, 2, 2, 12) - AIC:18.0\n",
      "ARIMA(1, 1, 2)x(0, 0, 0, 12) - AIC:133.83382693498052\n",
      "ARIMA(1, 1, 2)x(0, 0, 1, 12) - AIC:14.0\n",
      "ARIMA(1, 1, 2)x(0, 0, 2, 12) - AIC:16.0\n",
      "ARIMA(1, 1, 2)x(0, 1, 0, 12) - AIC:12.0\n",
      "ARIMA(1, 1, 2)x(0, 1, 1, 12) - AIC:14.0\n",
      "ARIMA(1, 1, 2)x(0, 1, 2, 12) - AIC:16.0\n",
      "ARIMA(1, 1, 2)x(0, 2, 0, 12) - AIC:12.0\n",
      "ARIMA(1, 1, 2)x(0, 2, 1, 12) - AIC:14.0\n",
      "ARIMA(1, 1, 2)x(0, 2, 2, 12) - AIC:16.0\n",
      "ARIMA(1, 1, 2)x(1, 0, 0, 12) - AIC:14.0\n",
      "ARIMA(1, 1, 2)x(1, 0, 1, 12) - AIC:16.0\n",
      "ARIMA(1, 1, 2)x(1, 0, 2, 12) - AIC:18.0\n",
      "ARIMA(1, 1, 2)x(1, 1, 0, 12) - AIC:14.0\n",
      "ARIMA(1, 1, 2)x(1, 1, 1, 12) - AIC:16.0\n",
      "ARIMA(1, 1, 2)x(1, 1, 2, 12) - AIC:18.0\n",
      "ARIMA(1, 1, 2)x(1, 2, 0, 12) - AIC:14.0\n",
      "ARIMA(1, 1, 2)x(1, 2, 1, 12) - AIC:16.0\n",
      "ARIMA(1, 1, 2)x(1, 2, 2, 12) - AIC:18.0\n",
      "ARIMA(1, 1, 2)x(2, 0, 0, 12) - AIC:16.0\n",
      "ARIMA(1, 1, 2)x(2, 0, 1, 12) - AIC:18.0\n",
      "ARIMA(1, 1, 2)x(2, 0, 2, 12) - AIC:20.0\n",
      "ARIMA(1, 1, 2)x(2, 1, 0, 12) - AIC:16.0\n",
      "ARIMA(1, 1, 2)x(2, 1, 1, 12) - AIC:18.0\n",
      "ARIMA(1, 1, 2)x(2, 1, 2, 12) - AIC:20.0\n",
      "ARIMA(1, 1, 2)x(2, 2, 0, 12) - AIC:16.0\n",
      "ARIMA(1, 1, 2)x(2, 2, 1, 12) - AIC:18.0\n",
      "ARIMA(1, 1, 2)x(2, 2, 2, 12) - AIC:20.0\n",
      "ARIMA(1, 2, 0)x(0, 0, 0, 12) - AIC:151.7070782980078\n",
      "ARIMA(1, 2, 0)x(0, 0, 1, 12) - AIC:10.0\n",
      "ARIMA(1, 2, 0)x(0, 0, 2, 12) - AIC:12.0\n",
      "ARIMA(1, 2, 0)x(0, 1, 0, 12) - AIC:8.0\n",
      "ARIMA(1, 2, 0)x(0, 1, 1, 12) - AIC:10.0\n",
      "ARIMA(1, 2, 0)x(0, 1, 2, 12) - AIC:12.0\n",
      "ARIMA(1, 2, 0)x(0, 2, 0, 12) - AIC:8.0\n",
      "ARIMA(1, 2, 0)x(0, 2, 1, 12) - AIC:10.0\n",
      "ARIMA(1, 2, 0)x(0, 2, 2, 12) - AIC:12.0\n",
      "ARIMA(1, 2, 0)x(1, 0, 0, 12) - AIC:10.0\n",
      "ARIMA(1, 2, 0)x(1, 0, 1, 12) - AIC:12.0\n",
      "ARIMA(1, 2, 0)x(1, 0, 2, 12) - AIC:14.0\n",
      "ARIMA(1, 2, 0)x(1, 1, 0, 12) - AIC:10.0\n",
      "ARIMA(1, 2, 0)x(1, 1, 1, 12) - AIC:12.0\n",
      "ARIMA(1, 2, 0)x(1, 1, 2, 12) - AIC:14.0\n",
      "ARIMA(1, 2, 0)x(1, 2, 0, 12) - AIC:10.0\n",
      "ARIMA(1, 2, 0)x(1, 2, 1, 12) - AIC:12.0\n",
      "ARIMA(1, 2, 0)x(1, 2, 2, 12) - AIC:14.0\n",
      "ARIMA(1, 2, 0)x(2, 0, 0, 12) - AIC:12.0\n",
      "ARIMA(1, 2, 0)x(2, 0, 1, 12) - AIC:14.0\n",
      "ARIMA(1, 2, 0)x(2, 0, 2, 12) - AIC:16.0\n",
      "ARIMA(1, 2, 0)x(2, 1, 0, 12) - AIC:12.0\n",
      "ARIMA(1, 2, 0)x(2, 1, 1, 12) - AIC:14.0\n",
      "ARIMA(1, 2, 0)x(2, 1, 2, 12) - AIC:16.0\n",
      "ARIMA(1, 2, 0)x(2, 2, 0, 12) - AIC:12.0\n",
      "ARIMA(1, 2, 0)x(2, 2, 1, 12) - AIC:14.0\n",
      "ARIMA(1, 2, 0)x(2, 2, 2, 12) - AIC:16.0\n",
      "ARIMA(1, 2, 1)x(0, 0, 0, 12) - AIC:126.96937116479857\n",
      "ARIMA(1, 2, 1)x(0, 0, 1, 12) - AIC:12.0\n",
      "ARIMA(1, 2, 1)x(0, 0, 2, 12) - AIC:14.0\n",
      "ARIMA(1, 2, 1)x(0, 1, 0, 12) - AIC:10.0\n",
      "ARIMA(1, 2, 1)x(0, 1, 1, 12) - AIC:12.0\n",
      "ARIMA(1, 2, 1)x(0, 1, 2, 12) - AIC:14.0\n",
      "ARIMA(1, 2, 1)x(0, 2, 0, 12) - AIC:10.0\n",
      "ARIMA(1, 2, 1)x(0, 2, 1, 12) - AIC:12.0\n",
      "ARIMA(1, 2, 1)x(0, 2, 2, 12) - AIC:14.0\n",
      "ARIMA(1, 2, 1)x(1, 0, 0, 12) - AIC:12.0\n",
      "ARIMA(1, 2, 1)x(1, 0, 1, 12) - AIC:14.0\n",
      "ARIMA(1, 2, 1)x(1, 0, 2, 12) - AIC:16.0\n",
      "ARIMA(1, 2, 1)x(1, 1, 0, 12) - AIC:12.0\n",
      "ARIMA(1, 2, 1)x(1, 1, 1, 12) - AIC:14.0\n",
      "ARIMA(1, 2, 1)x(1, 1, 2, 12) - AIC:16.0\n",
      "ARIMA(1, 2, 1)x(1, 2, 0, 12) - AIC:12.0\n",
      "ARIMA(1, 2, 1)x(1, 2, 1, 12) - AIC:14.0\n",
      "ARIMA(1, 2, 1)x(1, 2, 2, 12) - AIC:16.0\n",
      "ARIMA(1, 2, 1)x(2, 0, 0, 12) - AIC:14.0\n",
      "ARIMA(1, 2, 1)x(2, 0, 1, 12) - AIC:16.0\n",
      "ARIMA(1, 2, 1)x(2, 0, 2, 12) - AIC:18.0\n",
      "ARIMA(1, 2, 1)x(2, 1, 0, 12) - AIC:14.0\n",
      "ARIMA(1, 2, 1)x(2, 1, 1, 12) - AIC:16.0\n",
      "ARIMA(1, 2, 1)x(2, 1, 2, 12) - AIC:18.0\n",
      "ARIMA(1, 2, 1)x(2, 2, 0, 12) - AIC:14.0\n",
      "ARIMA(1, 2, 1)x(2, 2, 1, 12) - AIC:16.0\n",
      "ARIMA(1, 2, 1)x(2, 2, 2, 12) - AIC:18.0\n",
      "ARIMA(1, 2, 2)x(0, 0, 0, 12) - AIC:116.44257654444941\n",
      "ARIMA(1, 2, 2)x(0, 0, 1, 12) - AIC:14.0\n",
      "ARIMA(1, 2, 2)x(0, 0, 2, 12) - AIC:16.0\n",
      "ARIMA(1, 2, 2)x(0, 1, 0, 12) - AIC:12.0\n",
      "ARIMA(1, 2, 2)x(0, 1, 1, 12) - AIC:14.0\n",
      "ARIMA(1, 2, 2)x(0, 1, 2, 12) - AIC:16.0\n",
      "ARIMA(1, 2, 2)x(0, 2, 0, 12) - AIC:12.0\n",
      "ARIMA(1, 2, 2)x(0, 2, 1, 12) - AIC:14.0\n",
      "ARIMA(1, 2, 2)x(0, 2, 2, 12) - AIC:16.0\n",
      "ARIMA(1, 2, 2)x(1, 0, 0, 12) - AIC:14.0\n",
      "ARIMA(1, 2, 2)x(1, 0, 1, 12) - AIC:16.0\n",
      "ARIMA(1, 2, 2)x(1, 0, 2, 12) - AIC:18.0\n",
      "ARIMA(1, 2, 2)x(1, 1, 0, 12) - AIC:14.0\n",
      "ARIMA(1, 2, 2)x(1, 1, 1, 12) - AIC:16.0\n",
      "ARIMA(1, 2, 2)x(1, 1, 2, 12) - AIC:18.0\n",
      "ARIMA(1, 2, 2)x(1, 2, 0, 12) - AIC:14.0\n",
      "ARIMA(1, 2, 2)x(1, 2, 1, 12) - AIC:16.0\n",
      "ARIMA(1, 2, 2)x(1, 2, 2, 12) - AIC:18.0\n",
      "ARIMA(1, 2, 2)x(2, 0, 0, 12) - AIC:16.0\n",
      "ARIMA(1, 2, 2)x(2, 0, 1, 12) - AIC:18.0\n",
      "ARIMA(1, 2, 2)x(2, 0, 2, 12) - AIC:20.0\n",
      "ARIMA(1, 2, 2)x(2, 1, 0, 12) - AIC:16.0\n",
      "ARIMA(1, 2, 2)x(2, 1, 1, 12) - AIC:18.0\n",
      "ARIMA(1, 2, 2)x(2, 1, 2, 12) - AIC:20.0\n",
      "ARIMA(1, 2, 2)x(2, 2, 0, 12) - AIC:16.0\n",
      "ARIMA(1, 2, 2)x(2, 2, 1, 12) - AIC:18.0\n",
      "ARIMA(1, 2, 2)x(2, 2, 2, 12) - AIC:20.0\n",
      "ARIMA(2, 0, 0)x(0, 0, 0, 12) - AIC:179.99659686843503\n",
      "ARIMA(2, 0, 0)x(0, 0, 1, 12) - AIC:12.0\n",
      "ARIMA(2, 0, 0)x(0, 0, 2, 12) - AIC:14.0\n",
      "ARIMA(2, 0, 0)x(0, 1, 0, 12) - AIC:10.0\n",
      "ARIMA(2, 0, 0)x(0, 1, 1, 12) - AIC:12.0\n",
      "ARIMA(2, 0, 0)x(0, 1, 2, 12) - AIC:14.0\n",
      "ARIMA(2, 0, 0)x(0, 2, 0, 12) - AIC:10.0\n",
      "ARIMA(2, 0, 0)x(0, 2, 1, 12) - AIC:12.0\n",
      "ARIMA(2, 0, 0)x(0, 2, 2, 12) - AIC:14.0\n",
      "ARIMA(2, 0, 0)x(1, 0, 0, 12) - AIC:12.0\n",
      "ARIMA(2, 0, 0)x(1, 0, 1, 12) - AIC:14.0\n",
      "ARIMA(2, 0, 0)x(1, 0, 2, 12) - AIC:16.0\n",
      "ARIMA(2, 0, 0)x(1, 1, 0, 12) - AIC:12.0\n",
      "ARIMA(2, 0, 0)x(1, 1, 1, 12) - AIC:14.0\n",
      "ARIMA(2, 0, 0)x(1, 1, 2, 12) - AIC:16.0\n",
      "ARIMA(2, 0, 0)x(1, 2, 0, 12) - AIC:12.0\n",
      "ARIMA(2, 0, 0)x(1, 2, 1, 12) - AIC:14.0\n",
      "ARIMA(2, 0, 0)x(1, 2, 2, 12) - AIC:16.0\n",
      "ARIMA(2, 0, 0)x(2, 0, 0, 12) - AIC:14.0\n",
      "ARIMA(2, 0, 0)x(2, 0, 1, 12) - AIC:16.0\n",
      "ARIMA(2, 0, 0)x(2, 0, 2, 12) - AIC:18.0\n",
      "ARIMA(2, 0, 0)x(2, 1, 0, 12) - AIC:14.0\n",
      "ARIMA(2, 0, 0)x(2, 1, 1, 12) - AIC:16.0\n",
      "ARIMA(2, 0, 0)x(2, 1, 2, 12) - AIC:18.0\n",
      "ARIMA(2, 0, 0)x(2, 2, 0, 12) - AIC:14.0\n",
      "ARIMA(2, 0, 0)x(2, 2, 1, 12) - AIC:16.0\n",
      "ARIMA(2, 0, 0)x(2, 2, 2, 12) - AIC:18.0\n",
      "ARIMA(2, 0, 1)x(0, 0, 0, 12) - AIC:179.54255600133894\n",
      "ARIMA(2, 0, 1)x(0, 0, 1, 12) - AIC:14.0\n",
      "ARIMA(2, 0, 1)x(0, 0, 2, 12) - AIC:16.0\n",
      "ARIMA(2, 0, 1)x(0, 1, 0, 12) - AIC:12.0\n",
      "ARIMA(2, 0, 1)x(0, 1, 1, 12) - AIC:14.0\n",
      "ARIMA(2, 0, 1)x(0, 1, 2, 12) - AIC:16.0\n",
      "ARIMA(2, 0, 1)x(0, 2, 0, 12) - AIC:12.0\n",
      "ARIMA(2, 0, 1)x(0, 2, 1, 12) - AIC:14.0\n",
      "ARIMA(2, 0, 1)x(0, 2, 2, 12) - AIC:16.0\n",
      "ARIMA(2, 0, 1)x(1, 0, 0, 12) - AIC:14.0\n",
      "ARIMA(2, 0, 1)x(1, 0, 1, 12) - AIC:16.0\n",
      "ARIMA(2, 0, 1)x(1, 0, 2, 12) - AIC:18.0\n",
      "ARIMA(2, 0, 1)x(1, 1, 0, 12) - AIC:14.0\n",
      "ARIMA(2, 0, 1)x(1, 1, 1, 12) - AIC:16.0\n",
      "ARIMA(2, 0, 1)x(1, 1, 2, 12) - AIC:18.0\n",
      "ARIMA(2, 0, 1)x(1, 2, 0, 12) - AIC:14.0\n",
      "ARIMA(2, 0, 1)x(1, 2, 1, 12) - AIC:16.0\n",
      "ARIMA(2, 0, 1)x(1, 2, 2, 12) - AIC:18.0\n",
      "ARIMA(2, 0, 1)x(2, 0, 0, 12) - AIC:16.0\n",
      "ARIMA(2, 0, 1)x(2, 0, 1, 12) - AIC:18.0\n",
      "ARIMA(2, 0, 1)x(2, 0, 2, 12) - AIC:20.0\n",
      "ARIMA(2, 0, 1)x(2, 1, 0, 12) - AIC:16.0\n",
      "ARIMA(2, 0, 1)x(2, 1, 1, 12) - AIC:18.0\n",
      "ARIMA(2, 0, 1)x(2, 1, 2, 12) - AIC:20.0\n",
      "ARIMA(2, 0, 1)x(2, 2, 0, 12) - AIC:16.0\n",
      "ARIMA(2, 0, 1)x(2, 2, 1, 12) - AIC:18.0\n",
      "ARIMA(2, 0, 1)x(2, 2, 2, 12) - AIC:20.0\n",
      "ARIMA(2, 0, 2)x(0, 0, 0, 12) - AIC:159.91533568574027\n",
      "ARIMA(2, 0, 2)x(0, 0, 1, 12) - AIC:16.0\n",
      "ARIMA(2, 0, 2)x(0, 0, 2, 12) - AIC:18.0\n",
      "ARIMA(2, 0, 2)x(0, 1, 0, 12) - AIC:14.0\n",
      "ARIMA(2, 0, 2)x(0, 1, 1, 12) - AIC:16.0\n",
      "ARIMA(2, 0, 2)x(0, 1, 2, 12) - AIC:18.0\n",
      "ARIMA(2, 0, 2)x(0, 2, 0, 12) - AIC:14.0\n",
      "ARIMA(2, 0, 2)x(0, 2, 1, 12) - AIC:16.0\n",
      "ARIMA(2, 0, 2)x(0, 2, 2, 12) - AIC:18.0\n",
      "ARIMA(2, 0, 2)x(1, 0, 0, 12) - AIC:16.0\n",
      "ARIMA(2, 0, 2)x(1, 0, 1, 12) - AIC:18.0\n",
      "ARIMA(2, 0, 2)x(1, 0, 2, 12) - AIC:20.0\n",
      "ARIMA(2, 0, 2)x(1, 1, 0, 12) - AIC:16.0\n",
      "ARIMA(2, 0, 2)x(1, 1, 1, 12) - AIC:18.0\n",
      "ARIMA(2, 0, 2)x(1, 1, 2, 12) - AIC:20.0\n",
      "ARIMA(2, 0, 2)x(1, 2, 0, 12) - AIC:16.0\n",
      "ARIMA(2, 0, 2)x(1, 2, 1, 12) - AIC:18.0\n",
      "ARIMA(2, 0, 2)x(1, 2, 2, 12) - AIC:20.0\n",
      "ARIMA(2, 0, 2)x(2, 0, 0, 12) - AIC:18.0\n",
      "ARIMA(2, 0, 2)x(2, 0, 1, 12) - AIC:20.0\n",
      "ARIMA(2, 0, 2)x(2, 0, 2, 12) - AIC:22.0\n",
      "ARIMA(2, 0, 2)x(2, 1, 0, 12) - AIC:18.0\n",
      "ARIMA(2, 0, 2)x(2, 1, 1, 12) - AIC:20.0\n",
      "ARIMA(2, 0, 2)x(2, 1, 2, 12) - AIC:22.0\n",
      "ARIMA(2, 0, 2)x(2, 2, 0, 12) - AIC:18.0\n",
      "ARIMA(2, 0, 2)x(2, 2, 1, 12) - AIC:20.0\n",
      "ARIMA(2, 0, 2)x(2, 2, 2, 12) - AIC:22.0\n",
      "ARIMA(2, 1, 0)x(0, 0, 0, 12) - AIC:153.57107589864222\n",
      "ARIMA(2, 1, 0)x(0, 0, 1, 12) - AIC:12.0\n",
      "ARIMA(2, 1, 0)x(0, 0, 2, 12) - AIC:14.0\n",
      "ARIMA(2, 1, 0)x(0, 1, 0, 12) - AIC:10.0\n",
      "ARIMA(2, 1, 0)x(0, 1, 1, 12) - AIC:12.0\n",
      "ARIMA(2, 1, 0)x(0, 1, 2, 12) - AIC:14.0\n",
      "ARIMA(2, 1, 0)x(0, 2, 0, 12) - AIC:10.0\n",
      "ARIMA(2, 1, 0)x(0, 2, 1, 12) - AIC:12.0\n",
      "ARIMA(2, 1, 0)x(0, 2, 2, 12) - AIC:14.0\n",
      "ARIMA(2, 1, 0)x(1, 0, 0, 12) - AIC:12.0\n",
      "ARIMA(2, 1, 0)x(1, 0, 1, 12) - AIC:14.0\n",
      "ARIMA(2, 1, 0)x(1, 0, 2, 12) - AIC:16.0\n",
      "ARIMA(2, 1, 0)x(1, 1, 0, 12) - AIC:12.0\n",
      "ARIMA(2, 1, 0)x(1, 1, 1, 12) - AIC:14.0\n",
      "ARIMA(2, 1, 0)x(1, 1, 2, 12) - AIC:16.0\n",
      "ARIMA(2, 1, 0)x(1, 2, 0, 12) - AIC:12.0\n",
      "ARIMA(2, 1, 0)x(1, 2, 1, 12) - AIC:14.0\n",
      "ARIMA(2, 1, 0)x(1, 2, 2, 12) - AIC:16.0\n",
      "ARIMA(2, 1, 0)x(2, 0, 0, 12) - AIC:14.0\n",
      "ARIMA(2, 1, 0)x(2, 0, 1, 12) - AIC:16.0\n",
      "ARIMA(2, 1, 0)x(2, 0, 2, 12) - AIC:18.0\n",
      "ARIMA(2, 1, 0)x(2, 1, 0, 12) - AIC:14.0\n",
      "ARIMA(2, 1, 0)x(2, 1, 1, 12) - AIC:16.0\n",
      "ARIMA(2, 1, 0)x(2, 1, 2, 12) - AIC:18.0\n",
      "ARIMA(2, 1, 0)x(2, 2, 0, 12) - AIC:14.0\n",
      "ARIMA(2, 1, 0)x(2, 2, 1, 12) - AIC:16.0\n",
      "ARIMA(2, 1, 0)x(2, 2, 2, 12) - AIC:18.0\n",
      "ARIMA(2, 1, 1)x(0, 0, 0, 12) - AIC:159.33037308627115\n",
      "ARIMA(2, 1, 1)x(0, 0, 1, 12) - AIC:14.0\n",
      "ARIMA(2, 1, 1)x(0, 0, 2, 12) - AIC:16.0\n",
      "ARIMA(2, 1, 1)x(0, 1, 0, 12) - AIC:12.0\n",
      "ARIMA(2, 1, 1)x(0, 1, 1, 12) - AIC:14.0\n",
      "ARIMA(2, 1, 1)x(0, 1, 2, 12) - AIC:16.0\n",
      "ARIMA(2, 1, 1)x(0, 2, 0, 12) - AIC:12.0\n",
      "ARIMA(2, 1, 1)x(0, 2, 1, 12) - AIC:14.0\n",
      "ARIMA(2, 1, 1)x(0, 2, 2, 12) - AIC:16.0\n",
      "ARIMA(2, 1, 1)x(1, 0, 0, 12) - AIC:14.0\n",
      "ARIMA(2, 1, 1)x(1, 0, 1, 12) - AIC:16.0\n",
      "ARIMA(2, 1, 1)x(1, 0, 2, 12) - AIC:18.0\n",
      "ARIMA(2, 1, 1)x(1, 1, 0, 12) - AIC:14.0\n",
      "ARIMA(2, 1, 1)x(1, 1, 1, 12) - AIC:16.0\n",
      "ARIMA(2, 1, 1)x(1, 1, 2, 12) - AIC:18.0\n",
      "ARIMA(2, 1, 1)x(1, 2, 0, 12) - AIC:14.0\n",
      "ARIMA(2, 1, 1)x(1, 2, 1, 12) - AIC:16.0\n",
      "ARIMA(2, 1, 1)x(1, 2, 2, 12) - AIC:18.0\n",
      "ARIMA(2, 1, 1)x(2, 0, 0, 12) - AIC:16.0\n",
      "ARIMA(2, 1, 1)x(2, 0, 1, 12) - AIC:18.0\n",
      "ARIMA(2, 1, 1)x(2, 0, 2, 12) - AIC:20.0\n",
      "ARIMA(2, 1, 1)x(2, 1, 0, 12) - AIC:16.0\n",
      "ARIMA(2, 1, 1)x(2, 1, 1, 12) - AIC:18.0\n",
      "ARIMA(2, 1, 1)x(2, 1, 2, 12) - AIC:20.0\n",
      "ARIMA(2, 1, 1)x(2, 2, 0, 12) - AIC:16.0\n",
      "ARIMA(2, 1, 1)x(2, 2, 1, 12) - AIC:18.0\n",
      "ARIMA(2, 1, 1)x(2, 2, 2, 12) - AIC:20.0\n",
      "ARIMA(2, 1, 2)x(0, 0, 0, 12) - AIC:14.0\n",
      "ARIMA(2, 1, 2)x(0, 0, 1, 12) - AIC:16.0\n",
      "ARIMA(2, 1, 2)x(0, 0, 2, 12) - AIC:18.0\n",
      "ARIMA(2, 1, 2)x(0, 1, 0, 12) - AIC:14.0\n",
      "ARIMA(2, 1, 2)x(0, 1, 1, 12) - AIC:16.0\n",
      "ARIMA(2, 1, 2)x(0, 1, 2, 12) - AIC:18.0\n",
      "ARIMA(2, 1, 2)x(0, 2, 0, 12) - AIC:14.0\n",
      "ARIMA(2, 1, 2)x(0, 2, 1, 12) - AIC:16.0\n",
      "ARIMA(2, 1, 2)x(0, 2, 2, 12) - AIC:18.0\n",
      "ARIMA(2, 1, 2)x(1, 0, 0, 12) - AIC:16.0\n",
      "ARIMA(2, 1, 2)x(1, 0, 1, 12) - AIC:18.0\n",
      "ARIMA(2, 1, 2)x(1, 0, 2, 12) - AIC:20.0\n",
      "ARIMA(2, 1, 2)x(1, 1, 0, 12) - AIC:16.0\n",
      "ARIMA(2, 1, 2)x(1, 1, 1, 12) - AIC:18.0\n",
      "ARIMA(2, 1, 2)x(1, 1, 2, 12) - AIC:20.0\n",
      "ARIMA(2, 1, 2)x(1, 2, 0, 12) - AIC:16.0\n",
      "ARIMA(2, 1, 2)x(1, 2, 1, 12) - AIC:18.0\n",
      "ARIMA(2, 1, 2)x(1, 2, 2, 12) - AIC:20.0\n",
      "ARIMA(2, 1, 2)x(2, 0, 0, 12) - AIC:18.0\n",
      "ARIMA(2, 1, 2)x(2, 0, 1, 12) - AIC:20.0\n",
      "ARIMA(2, 1, 2)x(2, 0, 2, 12) - AIC:22.0\n",
      "ARIMA(2, 1, 2)x(2, 1, 0, 12) - AIC:18.0\n",
      "ARIMA(2, 1, 2)x(2, 1, 1, 12) - AIC:20.0\n",
      "ARIMA(2, 1, 2)x(2, 1, 2, 12) - AIC:22.0\n",
      "ARIMA(2, 1, 2)x(2, 2, 0, 12) - AIC:18.0\n",
      "ARIMA(2, 1, 2)x(2, 2, 1, 12) - AIC:20.0\n",
      "ARIMA(2, 1, 2)x(2, 2, 2, 12) - AIC:22.0\n",
      "ARIMA(2, 2, 0)x(0, 0, 0, 12) - AIC:125.64475233761186\n",
      "ARIMA(2, 2, 0)x(0, 0, 1, 12) - AIC:12.0\n",
      "ARIMA(2, 2, 0)x(0, 0, 2, 12) - AIC:14.0\n",
      "ARIMA(2, 2, 0)x(0, 1, 0, 12) - AIC:10.0\n",
      "ARIMA(2, 2, 0)x(0, 1, 1, 12) - AIC:12.0\n",
      "ARIMA(2, 2, 0)x(0, 1, 2, 12) - AIC:14.0\n",
      "ARIMA(2, 2, 0)x(0, 2, 0, 12) - AIC:10.0\n",
      "ARIMA(2, 2, 0)x(0, 2, 1, 12) - AIC:12.0\n",
      "ARIMA(2, 2, 0)x(0, 2, 2, 12) - AIC:14.0\n",
      "ARIMA(2, 2, 0)x(1, 0, 0, 12) - AIC:12.0\n",
      "ARIMA(2, 2, 0)x(1, 0, 1, 12) - AIC:14.0\n",
      "ARIMA(2, 2, 0)x(1, 0, 2, 12) - AIC:16.0\n",
      "ARIMA(2, 2, 0)x(1, 1, 0, 12) - AIC:12.0\n",
      "ARIMA(2, 2, 0)x(1, 1, 1, 12) - AIC:14.0\n",
      "ARIMA(2, 2, 0)x(1, 1, 2, 12) - AIC:16.0\n",
      "ARIMA(2, 2, 0)x(1, 2, 0, 12) - AIC:12.0\n",
      "ARIMA(2, 2, 0)x(1, 2, 1, 12) - AIC:14.0\n",
      "ARIMA(2, 2, 0)x(1, 2, 2, 12) - AIC:16.0\n",
      "ARIMA(2, 2, 0)x(2, 0, 0, 12) - AIC:14.0\n",
      "ARIMA(2, 2, 0)x(2, 0, 1, 12) - AIC:16.0\n",
      "ARIMA(2, 2, 0)x(2, 0, 2, 12) - AIC:18.0\n",
      "ARIMA(2, 2, 0)x(2, 1, 0, 12) - AIC:14.0\n",
      "ARIMA(2, 2, 0)x(2, 1, 1, 12) - AIC:16.0\n",
      "ARIMA(2, 2, 0)x(2, 1, 2, 12) - AIC:18.0\n",
      "ARIMA(2, 2, 0)x(2, 2, 0, 12) - AIC:14.0\n",
      "ARIMA(2, 2, 0)x(2, 2, 1, 12) - AIC:16.0\n",
      "ARIMA(2, 2, 0)x(2, 2, 2, 12) - AIC:18.0\n",
      "ARIMA(2, 2, 1)x(0, 0, 0, 12) - AIC:128.9889876366119\n",
      "ARIMA(2, 2, 1)x(0, 0, 1, 12) - AIC:14.0\n",
      "ARIMA(2, 2, 1)x(0, 0, 2, 12) - AIC:16.0\n",
      "ARIMA(2, 2, 1)x(0, 1, 0, 12) - AIC:12.0\n",
      "ARIMA(2, 2, 1)x(0, 1, 1, 12) - AIC:14.0\n",
      "ARIMA(2, 2, 1)x(0, 1, 2, 12) - AIC:16.0\n",
      "ARIMA(2, 2, 1)x(0, 2, 0, 12) - AIC:12.0\n",
      "ARIMA(2, 2, 1)x(0, 2, 1, 12) - AIC:14.0\n",
      "ARIMA(2, 2, 1)x(0, 2, 2, 12) - AIC:16.0\n",
      "ARIMA(2, 2, 1)x(1, 0, 0, 12) - AIC:14.0\n",
      "ARIMA(2, 2, 1)x(1, 0, 1, 12) - AIC:16.0\n",
      "ARIMA(2, 2, 1)x(1, 0, 2, 12) - AIC:18.0\n",
      "ARIMA(2, 2, 1)x(1, 1, 0, 12) - AIC:14.0\n",
      "ARIMA(2, 2, 1)x(1, 1, 1, 12) - AIC:16.0\n",
      "ARIMA(2, 2, 1)x(1, 1, 2, 12) - AIC:18.0\n",
      "ARIMA(2, 2, 1)x(1, 2, 0, 12) - AIC:14.0\n",
      "ARIMA(2, 2, 1)x(1, 2, 1, 12) - AIC:16.0\n",
      "ARIMA(2, 2, 1)x(1, 2, 2, 12) - AIC:18.0\n",
      "ARIMA(2, 2, 1)x(2, 0, 0, 12) - AIC:16.0\n",
      "ARIMA(2, 2, 1)x(2, 0, 1, 12) - AIC:18.0\n",
      "ARIMA(2, 2, 1)x(2, 0, 2, 12) - AIC:20.0\n",
      "ARIMA(2, 2, 1)x(2, 1, 0, 12) - AIC:16.0\n",
      "ARIMA(2, 2, 1)x(2, 1, 1, 12) - AIC:18.0\n",
      "ARIMA(2, 2, 1)x(2, 1, 2, 12) - AIC:20.0\n",
      "ARIMA(2, 2, 1)x(2, 2, 0, 12) - AIC:16.0\n",
      "ARIMA(2, 2, 1)x(2, 2, 1, 12) - AIC:18.0\n",
      "ARIMA(2, 2, 1)x(2, 2, 2, 12) - AIC:20.0\n",
      "ARIMA(2, 2, 2)x(0, 0, 0, 12) - AIC:9461254.311535155\n",
      "ARIMA(2, 2, 2)x(0, 0, 1, 12) - AIC:16.0\n",
      "ARIMA(2, 2, 2)x(0, 0, 2, 12) - AIC:18.0\n",
      "ARIMA(2, 2, 2)x(0, 1, 0, 12) - AIC:14.0\n",
      "ARIMA(2, 2, 2)x(0, 1, 1, 12) - AIC:16.0\n",
      "ARIMA(2, 2, 2)x(0, 1, 2, 12) - AIC:18.0\n",
      "ARIMA(2, 2, 2)x(0, 2, 0, 12) - AIC:14.0\n",
      "ARIMA(2, 2, 2)x(0, 2, 1, 12) - AIC:16.0\n",
      "ARIMA(2, 2, 2)x(0, 2, 2, 12) - AIC:18.0\n",
      "ARIMA(2, 2, 2)x(1, 0, 0, 12) - AIC:16.0\n",
      "ARIMA(2, 2, 2)x(1, 0, 1, 12) - AIC:18.0\n",
      "ARIMA(2, 2, 2)x(1, 0, 2, 12) - AIC:20.0\n",
      "ARIMA(2, 2, 2)x(1, 1, 0, 12) - AIC:16.0\n",
      "ARIMA(2, 2, 2)x(1, 1, 1, 12) - AIC:18.0\n",
      "ARIMA(2, 2, 2)x(1, 1, 2, 12) - AIC:20.0\n",
      "ARIMA(2, 2, 2)x(1, 2, 0, 12) - AIC:16.0\n",
      "ARIMA(2, 2, 2)x(1, 2, 1, 12) - AIC:18.0\n",
      "ARIMA(2, 2, 2)x(1, 2, 2, 12) - AIC:20.0\n",
      "ARIMA(2, 2, 2)x(2, 0, 0, 12) - AIC:18.0\n",
      "ARIMA(2, 2, 2)x(2, 0, 1, 12) - AIC:20.0\n",
      "ARIMA(2, 2, 2)x(2, 0, 2, 12) - AIC:22.0\n",
      "ARIMA(2, 2, 2)x(2, 1, 0, 12) - AIC:18.0\n",
      "ARIMA(2, 2, 2)x(2, 1, 1, 12) - AIC:20.0\n",
      "ARIMA(2, 2, 2)x(2, 1, 2, 12) - AIC:22.0\n",
      "ARIMA(2, 2, 2)x(2, 2, 0, 12) - AIC:18.0\n",
      "ARIMA(2, 2, 2)x(2, 2, 1, 12) - AIC:20.0\n",
      "ARIMA(2, 2, 2)x(2, 2, 2, 12) - AIC:22.0\n",
      "Лучший AIC: 6.0\n",
      "Лучшие параметры ARIMA: (0, 0, 0)\n",
      "Лучшие сезонные параметры: (0, 1, 0, 12)\n"
     ]
    }
   ],
   "source": [
    "import warnings\n",
    "warnings.filterwarnings(\"ignore\")  # Игнорируем предупреждения для упрощения вывода\n",
    "# Определение диапазонов для параметров\n",
    "p = d = q = range(0, 3)  # Основные параметры\n",
    "pdq = list(itertools.product(p, d, q))  # Все комбинации p, d, q\n",
    "seasonal_pdq = [(x[0], x[1], x[2], 12) for x in list(itertools.product(p, d, q))]  # Сезонные параметры\n",
    "# Для хранения лучшей модели \n",
    "best_aic = float(\"inf\")\n",
    "best_pdq = None\n",
    "best_seasonal_pdq = None\n",
    "best_results = None\n",
    "# Подбор параметров\n",
    "for param in pdq:\n",
    "    for param_seasonal in seasonal_pdq:\n",
    "        try:\n",
    "            mod = SARIMAX(df['Импорт России важнейших товаров, млн долл США'],\n",
    "                          exog=df[['Оборот средних организаций по субъектам РФ, млрд. руб.', \n",
    "                                   'Индекс промышленного производства, в%']],\n",
    "                          order=param,\n",
    "                          seasonal_order=param_seasonal,\n",
    "                          enforce_stationarity=False,\n",
    "                          enforce_invertibility=False)\n",
    "\n",
    "            results = mod.fit()\n",
    "\n",
    "            # Сравниваем с лучшим AIC\n",
    "            if results.aic < best_aic:\n",
    "                best_aic = results.aic\n",
    "                best_pdq = param\n",
    "                best_seasonal_pdq = param_seasonal\n",
    "                best_results = results\n",
    "           \n",
    "            print(f'ARIMA{param}x{param_seasonal} - AIC:{results.aic}')\n",
    "        except:\n",
    "            continue\n",
    "\n",
    "print(f'Лучший AIC: {best_aic}')\n",
    "print(f'Лучшие параметры ARIMA: {best_pdq}')\n",
    "print(f'Лучшие сезонные параметры: {best_seasonal_pdq}')\n"
   ]
  },
  {
   "cell_type": "markdown",
   "metadata": {},
   "source": [
    "#### Результат\n",
    "- Лучший AIC: 6.0\n",
    "- Лучшие параметры ARIMA: (0, 0, 0)\n",
    "- Лучшие сезонные параметры: (0, 1, 0, 12)"
   ]
  },
  {
   "cell_type": "markdown",
   "metadata": {},
   "source": [
    "### Прогнозирование ARIMAX"
   ]
  },
  {
   "cell_type": "code",
   "execution_count": 11,
   "metadata": {},
   "outputs": [
    {
     "name": "stdout",
     "output_type": "stream",
     "text": [
      "                                             SARIMAX Results                                             \n",
      "=========================================================================================================\n",
      "Dep. Variable:     Импорт России важнейших товаров, млн долл США   No. Observations:                   11\n",
      "Model:                                                   SARIMAX   Log Likelihood                 -97.619\n",
      "Date:                                           Sat, 27 Apr 2024   AIC                            205.237\n",
      "Time:                                                   00:38:12   BIC                            207.227\n",
      "Sample:                                                        0   HQIC                           203.983\n",
      "                                                            - 11                                         \n",
      "Covariance Type:                                             opg                                         \n",
      "=================================================================================================================================\n",
      "                                                                    coef    std err          z      P>|z|      [0.025      0.975]\n",
      "---------------------------------------------------------------------------------------------------------------------------------\n",
      "const                                                         -6.184e+04    5.3e+04     -1.168      0.243   -1.66e+05    4.19e+04\n",
      "Оборот средних организаций по субъектам РФ, млрд. руб.           -0.1823      1.779     -0.102      0.918      -3.669       3.304\n",
      "Индекс промышленного производства, в%                           476.4247    495.765      0.961      0.337    -495.258    1448.107\n",
      "Средняя доля импорта отдельных товаров в их товарных ресурсах  1113.9779    376.276      2.961      0.003     376.491    1851.464\n",
      "sigma2                                                         2.991e+06   1448.149   2065.089      0.000    2.99e+06    2.99e+06\n",
      "===================================================================================\n",
      "Ljung-Box (L1) (Q):                   0.29   Jarque-Bera (JB):                 4.27\n",
      "Prob(Q):                              0.59   Prob(JB):                         0.12\n",
      "Heteroskedasticity (H):               7.40   Skew:                            -1.32\n",
      "Prob(H) (two-sided):                  0.08   Kurtosis:                         4.52\n",
      "===================================================================================\n",
      "\n",
      "Warnings:\n",
      "[1] Covariance matrix calculated using the outer product of gradients (complex-step).\n",
      "[2] Covariance matrix is singular or near-singular, with condition number 1.46e+19. Standard errors may be unstable.\n",
      "Прогноз: 11     9192.097609\n",
      "12    11782.447758\n",
      "13     9170.076331\n",
      "14    12326.996303\n",
      "Name: predicted_mean, dtype: float64\n"
     ]
    }
   ],
   "source": [
    "# Создание и обучение модели ARIMAX\n",
    "X_with_const = sm.add_constant(X)\n",
    "arimax_model = SARIMAX(y, exog=X_with_const, order=(0,0,0), seasonal_order=(0,0,0,0))\n",
    "results = arimax_model.fit()\n",
    "\n",
    "# Вывод резюме модели\n",
    "print(results.summary())\n",
    "\n",
    "# Прогнозирование (замените steps на желаемое количество периодов для прогнозирования)\n",
    "forecast = results.get_forecast(steps=4, exog=X_with_const.iloc[-4:])\n",
    "print(\"Прогноз:\", forecast.predicted_mean)\n",
    "\n"
   ]
  },
  {
   "cell_type": "code",
   "execution_count": 14,
   "metadata": {},
   "outputs": [],
   "source": [
    "import statsmodels.api as sm\n",
    "from sklearn.metrics import mean_squared_error, mean_absolute_error"
   ]
  },
  {
   "cell_type": "code",
   "execution_count": 20,
   "metadata": {},
   "outputs": [
    {
     "name": "stdout",
     "output_type": "stream",
     "text": [
      "MSE: 6854236.017832555\n",
      "MAE: 2184.7979288630486\n"
     ]
    }
   ],
   "source": [
    "# Вычисление метрик MSE и MAE\n",
    "mse = mean_squared_error(y[-4:], forecast.predicted_mean)\n",
    "mae = mean_absolute_error(y[-4:], forecast.predicted_mean)\n",
    "\n",
    "print(\"MSE:\", mse)\n",
    "print(\"MAE:\", mae)"
   ]
  },
  {
   "cell_type": "markdown",
   "metadata": {},
   "source": [
    "### Проверка на автокорреляцию"
   ]
  },
  {
   "cell_type": "code",
   "execution_count": 91,
   "metadata": {},
   "outputs": [
    {
     "data": {
      "text/html": [
       "<div>\n",
       "<style scoped>\n",
       "    .dataframe tbody tr th:only-of-type {\n",
       "        vertical-align: middle;\n",
       "    }\n",
       "\n",
       "    .dataframe tbody tr th {\n",
       "        vertical-align: top;\n",
       "    }\n",
       "\n",
       "    .dataframe thead th {\n",
       "        text-align: right;\n",
       "    }\n",
       "</style>\n",
       "<table border=\"1\" class=\"dataframe\">\n",
       "  <thead>\n",
       "    <tr style=\"text-align: right;\">\n",
       "      <th></th>\n",
       "      <th>lb_stat</th>\n",
       "      <th>lb_pvalue</th>\n",
       "    </tr>\n",
       "  </thead>\n",
       "  <tbody>\n",
       "    <tr>\n",
       "      <th>10</th>\n",
       "      <td>2.671322</td>\n",
       "      <td>0.988137</td>\n",
       "    </tr>\n",
       "  </tbody>\n",
       "</table>\n",
       "</div>"
      ],
      "text/plain": [
       "     lb_stat  lb_pvalue\n",
       "10  2.671322   0.988137"
      ]
     },
     "execution_count": 91,
     "metadata": {},
     "output_type": "execute_result"
    }
   ],
   "source": [
    "acorr_ljungbox(results.resid**2, lags=[10], return_df=True)"
   ]
  },
  {
   "cell_type": "markdown",
   "metadata": {},
   "source": [
    "Вывод: 0.988137>0.05 => нулевая гипотеза принимается, и делается вывод об отсутствии автокорреляции во временном ряду"
   ]
  },
  {
   "cell_type": "markdown",
   "metadata": {},
   "source": [
    "### 2. Датсет: 28-40 Импорт продукции химической промышленности, каучука"
   ]
  },
  {
   "cell_type": "markdown",
   "metadata": {},
   "source": [
    "#### Прогногзирование ARIMAX"
   ]
  },
  {
   "cell_type": "code",
   "execution_count": 11,
   "metadata": {},
   "outputs": [
    {
     "name": "stdout",
     "output_type": "stream",
     "text": [
      "                                                           SARIMAX Results                                                           \n",
      "=====================================================================================================================================\n",
      "Dep. Variable:     28-40 Импорт продукции химической промышленности, каучука, млн. долл. США   No. Observations:                   11\n",
      "Model:                                                                               SARIMAX   Log Likelihood                 -98.031\n",
      "Date:                                                                       Fri, 03 May 2024   AIC                            206.061\n",
      "Time:                                                                               09:17:59   BIC                            208.051\n",
      "Sample:                                                                                    0   HQIC                           204.807\n",
      "                                                                                        - 11                                         \n",
      "Covariance Type:                                                                         opg                                         \n",
      "=================================================================================================================================\n",
      "                                                                    coef    std err          z      P>|z|      [0.025      0.975]\n",
      "---------------------------------------------------------------------------------------------------------------------------------\n",
      "const                                                         -1.606e+05   2.81e+04     -5.710      0.000   -2.16e+05   -1.05e+05\n",
      "Оборот средних организаций по субъектам РФ, млрд. руб.           -0.4843      1.066     -0.454      0.649      -2.573       1.604\n",
      "Индекс промышленного производства, в%                          1422.9561    202.050      7.043      0.000    1026.946    1818.967\n",
      "Средняя доля импорта отдельных товаров в их товарных ресурсах  2225.8288    359.909      6.184      0.000    1520.421    2931.237\n",
      "sigma2                                                         3.223e+06    2.6e+06      1.239      0.215   -1.88e+06    8.32e+06\n",
      "===================================================================================\n",
      "Ljung-Box (L1) (Q):                   1.39   Jarque-Bera (JB):                 0.59\n",
      "Prob(Q):                              0.24   Prob(JB):                         0.74\n",
      "Heteroskedasticity (H):               0.20   Skew:                             0.23\n",
      "Prob(H) (two-sided):                  0.15   Kurtosis:                         1.96\n",
      "===================================================================================\n",
      "\n",
      "Warnings:\n",
      "[1] Covariance matrix calculated using the outer product of gradients (complex-step).\n",
      "Прогноз: 11    38145.553351\n",
      "12    45121.742923\n",
      "13    38694.996830\n",
      "14    48491.890332\n",
      "Name: predicted_mean, dtype: float64\n"
     ]
    }
   ],
   "source": [
    "# Создание и обучение модели ARIMAX\n",
    "X_with_const = sm.add_constant(X28_40)\n",
    "arimax_model = SARIMAX(y28_40, exog=X_with_const, order=(0,0,0), seasonal_order=(0,0,0,0))\n",
    "results = arimax_model.fit()\n",
    "\n",
    "# Вывод резюме модели\n",
    "print(results.summary())\n",
    "\n",
    "# Прогнозирование (замените steps на желаемое количество периодов для прогнозирования)\n",
    "forecast = results.get_forecast(steps=4, exog=X_with_const.iloc[-4:])\n",
    "print(\"Прогноз:\", forecast.predicted_mean)\n"
   ]
  },
  {
   "cell_type": "code",
   "execution_count": 15,
   "metadata": {},
   "outputs": [
    {
     "name": "stdout",
     "output_type": "stream",
     "text": [
      "MSE: 1208495.3428738862\n",
      "MAE: 978.5175775520511\n"
     ]
    }
   ],
   "source": [
    "# Вычисление метрик MSE и MAE\n",
    "mse28_40 = mean_squared_error(y28_40[-4:], forecast.predicted_mean)\n",
    "mae28_40 = mean_absolute_error(y28_40[-4:], forecast.predicted_mean)\n",
    "\n",
    "print(\"MSE:\", mse28_40)\n",
    "print(\"MAE:\", mae28_40)"
   ]
  },
  {
   "cell_type": "markdown",
   "metadata": {},
   "source": [
    "**Прогноз**\n",
    "- 2022:    42025.604762\n",
    "- 2023:    45066.554978\n",
    "- 2024:    40909.956258\n",
    "- 2025:    41291.801762"
   ]
  },
  {
   "cell_type": "code",
   "execution_count": 93,
   "metadata": {},
   "outputs": [
    {
     "data": {
      "text/html": [
       "<div>\n",
       "<style scoped>\n",
       "    .dataframe tbody tr th:only-of-type {\n",
       "        vertical-align: middle;\n",
       "    }\n",
       "\n",
       "    .dataframe tbody tr th {\n",
       "        vertical-align: top;\n",
       "    }\n",
       "\n",
       "    .dataframe thead th {\n",
       "        text-align: right;\n",
       "    }\n",
       "</style>\n",
       "<table border=\"1\" class=\"dataframe\">\n",
       "  <thead>\n",
       "    <tr style=\"text-align: right;\">\n",
       "      <th></th>\n",
       "      <th>lb_stat</th>\n",
       "      <th>lb_pvalue</th>\n",
       "    </tr>\n",
       "  </thead>\n",
       "  <tbody>\n",
       "    <tr>\n",
       "      <th>10</th>\n",
       "      <td>12.113114</td>\n",
       "      <td>0.277558</td>\n",
       "    </tr>\n",
       "  </tbody>\n",
       "</table>\n",
       "</div>"
      ],
      "text/plain": [
       "      lb_stat  lb_pvalue\n",
       "10  12.113114   0.277558"
      ]
     },
     "execution_count": 93,
     "metadata": {},
     "output_type": "execute_result"
    }
   ],
   "source": [
    "acorr_ljungbox(results.resid**2, lags=[10], return_df=True)"
   ]
  },
  {
   "cell_type": "markdown",
   "metadata": {},
   "source": [
    "### 3. Датсет: 50-67 Импорт текстиля, текстильных изделий и обуви"
   ]
  },
  {
   "cell_type": "markdown",
   "metadata": {},
   "source": [
    "**Результат** \n",
    "\n",
    "- Лучший AIC: 6.0\n",
    "- Лучшие параметры ARIMA: (0, 0, 0)\n",
    "- Лучшие сезонные параметры: (0, 1, 0, 12)"
   ]
  },
  {
   "cell_type": "markdown",
   "metadata": {},
   "source": [
    "#### Прогнозирование ARIMAX"
   ]
  },
  {
   "cell_type": "code",
   "execution_count": 16,
   "metadata": {},
   "outputs": [
    {
     "name": "stdout",
     "output_type": "stream",
     "text": [
      "                                                       SARIMAX Results                                                        \n",
      "==============================================================================================================================\n",
      "Dep. Variable:     50-67 Импорт текстиля, текстильных изделий и обуви, млн. долл. США   No. Observations:                   11\n",
      "Model:                                                                        SARIMAX   Log Likelihood                 -90.545\n",
      "Date:                                                                Fri, 03 May 2024   AIC                            191.091\n",
      "Time:                                                                        09:20:35   BIC                            193.080\n",
      "Sample:                                                                             0   HQIC                           189.836\n",
      "                                                                                 - 11                                         \n",
      "Covariance Type:                                                                  opg                                         \n",
      "=================================================================================================================================\n",
      "                                                                    coef    std err          z      P>|z|      [0.025      0.975]\n",
      "---------------------------------------------------------------------------------------------------------------------------------\n",
      "const                                                         -4.909e+04   1.25e+04     -3.914      0.000   -7.37e+04   -2.45e+04\n",
      "Оборот средних организаций по субъектам РФ, млрд. руб.           -0.2882      0.482     -0.598      0.550      -1.233       0.657\n",
      "Индекс промышленного производства, в%                           434.3235     89.798      4.837      0.000     258.324     610.323\n",
      "Средняя доля импорта отдельных товаров в их товарных ресурсах   775.5568    166.348      4.662      0.000     449.520    1101.593\n",
      "sigma2                                                         8.265e+05   7.87e+05      1.050      0.294   -7.16e+05    2.37e+06\n",
      "===================================================================================\n",
      "Ljung-Box (L1) (Q):                   1.68   Jarque-Bera (JB):                 1.12\n",
      "Prob(Q):                              0.19   Prob(JB):                         0.57\n",
      "Heteroskedasticity (H):               0.69   Skew:                            -0.04\n",
      "Prob(H) (two-sided):                  0.73   Kurtosis:                         1.44\n",
      "===================================================================================\n",
      "\n",
      "Warnings:\n",
      "[1] Covariance matrix calculated using the outer product of gradients (complex-step).\n",
      "Прогноз: 11    11849.426874\n",
      "12    14110.046769\n",
      "13    11836.176724\n",
      "14    14533.338204\n",
      "Name: predicted_mean, dtype: float64\n"
     ]
    }
   ],
   "source": [
    "# Создание и обучение модели ARIMAX\n",
    "X_with_const = sm.add_constant(X50_67)\n",
    "arimax_model = SARIMAX(y50_67, exog=X_with_const, order=(0,0,0), seasonal_order=(0,0,0,0))\n",
    "results = arimax_model.fit()\n",
    "\n",
    "# Вывод резюме модели\n",
    "print(results.summary())\n",
    "\n",
    "# Прогнозирование (замените steps на желаемое количество периодов для прогнозирования)\n",
    "forecast = results.get_forecast(steps=4, exog=X_with_const.iloc[-4:])\n",
    "print(\"Прогноз:\", forecast.predicted_mean)\n"
   ]
  },
  {
   "cell_type": "code",
   "execution_count": 17,
   "metadata": {},
   "outputs": [
    {
     "name": "stdout",
     "output_type": "stream",
     "text": [
      "MSE: 685752.7139117955\n",
      "MAE: 728.1781685721776\n"
     ]
    }
   ],
   "source": [
    "# Вычисление метрик MSE и MAE\n",
    "mse50_67 = mean_squared_error(y50_67[-4:], forecast.predicted_mean)\n",
    "mae50_67 = mean_absolute_error(y50_67[-4:], forecast.predicted_mean)\n",
    "\n",
    "print(\"MSE:\", mse50_67)\n",
    "print(\"MAE:\", mae50_67)"
   ]
  },
  {
   "cell_type": "markdown",
   "metadata": {},
   "source": [
    "**Прогноз**\n",
    "- 2022:    13200.893757\n",
    "- 2023:    14089.126322\n",
    "- 2024:    12608.002967\n",
    "- 2025:    12024.716631"
   ]
  },
  {
   "cell_type": "code",
   "execution_count": 95,
   "metadata": {},
   "outputs": [
    {
     "data": {
      "text/html": [
       "<div>\n",
       "<style scoped>\n",
       "    .dataframe tbody tr th:only-of-type {\n",
       "        vertical-align: middle;\n",
       "    }\n",
       "\n",
       "    .dataframe tbody tr th {\n",
       "        vertical-align: top;\n",
       "    }\n",
       "\n",
       "    .dataframe thead th {\n",
       "        text-align: right;\n",
       "    }\n",
       "</style>\n",
       "<table border=\"1\" class=\"dataframe\">\n",
       "  <thead>\n",
       "    <tr style=\"text-align: right;\">\n",
       "      <th></th>\n",
       "      <th>lb_stat</th>\n",
       "      <th>lb_pvalue</th>\n",
       "    </tr>\n",
       "  </thead>\n",
       "  <tbody>\n",
       "    <tr>\n",
       "      <th>10</th>\n",
       "      <td>15.124262</td>\n",
       "      <td>0.127597</td>\n",
       "    </tr>\n",
       "  </tbody>\n",
       "</table>\n",
       "</div>"
      ],
      "text/plain": [
       "      lb_stat  lb_pvalue\n",
       "10  15.124262   0.127597"
      ]
     },
     "execution_count": 95,
     "metadata": {},
     "output_type": "execute_result"
    }
   ],
   "source": [
    "acorr_ljungbox(results.resid**2, lags=[10], return_df=True)"
   ]
  },
  {
   "cell_type": "markdown",
   "metadata": {},
   "source": [
    "### 4. Датсет: 72-83 Импорт металлов и изделий из них"
   ]
  },
  {
   "cell_type": "markdown",
   "metadata": {},
   "source": [
    "**Результат** \n",
    "\n",
    "- Лучший AIC: 6.0\n",
    "- Лучшие параметры ARIMA: (0, 0, 0)\n",
    "- Лучшие сезонные параметры: (0, 1, 0, 12)"
   ]
  },
  {
   "cell_type": "markdown",
   "metadata": {},
   "source": [
    "#### Прогнозирование ARIMAX"
   ]
  },
  {
   "cell_type": "code",
   "execution_count": 18,
   "metadata": {},
   "outputs": [
    {
     "name": "stdout",
     "output_type": "stream",
     "text": [
      "                                                 SARIMAX Results                                                  \n",
      "==================================================================================================================\n",
      "Dep. Variable:     72-83 Импорт металлов и изделий из них, млн. долл. США   No. Observations:                   11\n",
      "Model:                                                            SARIMAX   Log Likelihood                 -91.777\n",
      "Date:                                                    Fri, 03 May 2024   AIC                            193.553\n",
      "Time:                                                            09:21:21   BIC                            195.543\n",
      "Sample:                                                                 0   HQIC                           192.299\n",
      "                                                                     - 11                                         \n",
      "Covariance Type:                                                      opg                                         \n",
      "=================================================================================================================================\n",
      "                                                                    coef    std err          z      P>|z|      [0.025      0.975]\n",
      "---------------------------------------------------------------------------------------------------------------------------------\n",
      "const                                                         -6.038e+04   1.52e+04     -3.970      0.000   -9.02e+04   -3.06e+04\n",
      "Оборот средних организаций по субъектам РФ, млрд. руб.           -0.2918      0.598     -0.488      0.625      -1.463       0.879\n",
      "Индекс промышленного производства, в%                           509.9891    107.984      4.723      0.000     298.345     721.634\n",
      "Средняя доля импорта отдельных товаров в их товарных ресурсах   917.8863    200.346      4.581      0.000     525.215    1310.558\n",
      "sigma2                                                         1.034e+06   1.09e+06      0.949      0.342    -1.1e+06    3.17e+06\n",
      "===================================================================================\n",
      "Ljung-Box (L1) (Q):                   0.97   Jarque-Bera (JB):                 0.80\n",
      "Prob(Q):                              0.33   Prob(JB):                         0.67\n",
      "Heteroskedasticity (H):               0.39   Skew:                             0.28\n",
      "Prob(H) (two-sided):                  0.38   Kurtosis:                         1.80\n",
      "===================================================================================\n",
      "\n",
      "Warnings:\n",
      "[1] Covariance matrix calculated using the outer product of gradients (complex-step).\n",
      "Прогноз: 11    11572.928900\n",
      "12    14209.797415\n",
      "13    11597.587389\n",
      "14    14852.983593\n",
      "Name: predicted_mean, dtype: float64\n"
     ]
    }
   ],
   "source": [
    "# Создание и обучение модели ARIMAX\n",
    "X_with_const = sm.add_constant(X72_83)\n",
    "arimax_model = SARIMAX(y72_83, exog=X_with_const, order=(0,0,0), seasonal_order=(0,0,0,0))\n",
    "results = arimax_model.fit()\n",
    "\n",
    "# Вывод резюме модели\n",
    "print(results.summary())\n",
    "\n",
    "# Прогнозирование (замените steps на желаемое количество периодов для прогнозирования)\n",
    "forecast = results.get_forecast(steps=4, exog=X_with_const.iloc[-4:])\n",
    "print(\"Прогноз:\", forecast.predicted_mean)"
   ]
  },
  {
   "cell_type": "code",
   "execution_count": 19,
   "metadata": {},
   "outputs": [
    {
     "name": "stdout",
     "output_type": "stream",
     "text": [
      "MSE: 579257.9102488046\n",
      "MAE: 698.9236833511432\n"
     ]
    }
   ],
   "source": [
    "# Вычисление метрик MSE и MAE\n",
    "mse72_83 = mean_squared_error(y72_83[-4:], forecast.predicted_mean)\n",
    "mae72_83 = mean_absolute_error(y72_83[-4:], forecast.predicted_mean)\n",
    "\n",
    "print(\"MSE:\", mse72_83)\n",
    "print(\"MAE:\", mae72_83)"
   ]
  },
  {
   "cell_type": "code",
   "execution_count": 97,
   "metadata": {},
   "outputs": [
    {
     "data": {
      "text/html": [
       "<div>\n",
       "<style scoped>\n",
       "    .dataframe tbody tr th:only-of-type {\n",
       "        vertical-align: middle;\n",
       "    }\n",
       "\n",
       "    .dataframe tbody tr th {\n",
       "        vertical-align: top;\n",
       "    }\n",
       "\n",
       "    .dataframe thead th {\n",
       "        text-align: right;\n",
       "    }\n",
       "</style>\n",
       "<table border=\"1\" class=\"dataframe\">\n",
       "  <thead>\n",
       "    <tr style=\"text-align: right;\">\n",
       "      <th></th>\n",
       "      <th>lb_stat</th>\n",
       "      <th>lb_pvalue</th>\n",
       "    </tr>\n",
       "  </thead>\n",
       "  <tbody>\n",
       "    <tr>\n",
       "      <th>10</th>\n",
       "      <td>12.549739</td>\n",
       "      <td>0.249947</td>\n",
       "    </tr>\n",
       "  </tbody>\n",
       "</table>\n",
       "</div>"
      ],
      "text/plain": [
       "      lb_stat  lb_pvalue\n",
       "10  12.549739   0.249947"
      ]
     },
     "execution_count": 97,
     "metadata": {},
     "output_type": "execute_result"
    }
   ],
   "source": [
    "acorr_ljungbox(results.resid**2, lags=[10], return_df=True)"
   ]
  },
  {
   "cell_type": "markdown",
   "metadata": {},
   "source": [
    "### 6.2 SARIMAX"
   ]
  },
  {
   "cell_type": "markdown",
   "metadata": {},
   "source": [
    "### Датасет: Импорт России важнейших товаров"
   ]
  },
  {
   "cell_type": "code",
   "execution_count": 20,
   "metadata": {},
   "outputs": [
    {
     "name": "stdout",
     "output_type": "stream",
     "text": [
      "                                             SARIMAX Results                                             \n",
      "=========================================================================================================\n",
      "Dep. Variable:     Импорт России важнейших товаров, млн долл США   No. Observations:                   11\n",
      "Model:                                      SARIMAX(0, 1, 0, 12)   Log Likelihood                   0.000\n",
      "Date:                                           Fri, 03 May 2024   AIC                             10.000\n",
      "Time:                                                   09:22:00   BIC                                nan\n",
      "Sample:                                                        0   HQIC                               nan\n",
      "                                                            - 11                                         \n",
      "Covariance Type:                                             opg                                         \n",
      "=================================================================================================================================\n",
      "                                                                    coef    std err          z      P>|z|      [0.025      0.975]\n",
      "---------------------------------------------------------------------------------------------------------------------------------\n",
      "const                                                                  0         -0        nan        nan           0           0\n",
      "Оборот средних организаций по субъектам РФ, млрд. руб.                 0         -0        nan        nan           0           0\n",
      "Индекс промышленного производства, в%                                  0         -0        nan        nan           0           0\n",
      "Средняя доля импорта отдельных товаров в их товарных ресурсах          0         -0        nan        nan           0           0\n",
      "sigma2                                                             1e-10         -0       -inf      0.000       1e-10       1e-10\n",
      "===================================================================================\n",
      "Ljung-Box (L1) (Q):                    nan   Jarque-Bera (JB):                  nan\n",
      "Prob(Q):                               nan   Prob(JB):                          nan\n",
      "Heteroskedasticity (H):                nan   Skew:                              nan\n",
      "Prob(H) (two-sided):                   nan   Kurtosis:                          nan\n",
      "===================================================================================\n",
      "\n",
      "Warnings:\n",
      "[1] Covariance matrix calculated using the outer product of gradients (complex-step).\n",
      "[2] Covariance matrix is singular or near-singular, with condition number    inf. Standard errors may be unstable.\n",
      "Прогноз: 11        0.000000\n",
      "12    14267.700000\n",
      "13    15562.984615\n",
      "14    15495.900000\n",
      "Name: predicted_mean, dtype: float64\n"
     ]
    }
   ],
   "source": [
    "# Добавляем константу к независимым переменным для учета свободного члена (intercept) в модели\n",
    "X_with_const = sm.add_constant(X)\n",
    "model = SARIMAX(y, exog=X_with_const, order=(0,0,0), seasonal_order=(0,1,0,12))\n",
    "results = model.fit()\n",
    "\n",
    "# Вывод резюме модели\n",
    "print(results.summary())\n",
    "\n",
    "# Прогнозирование (замените steps на желаемое количество периодов для прогнозирования)\n",
    "forecast = results.get_forecast(steps=4, exog=X_with_const.iloc[-4:])\n",
    "print(\"Прогноз:\", forecast.predicted_mean)\n"
   ]
  },
  {
   "cell_type": "code",
   "execution_count": 21,
   "metadata": {},
   "outputs": [
    {
     "name": "stdout",
     "output_type": "stream",
     "text": [
      "MSE: 64048778.57673072\n",
      "MAE: 6674.140384615383\n"
     ]
    }
   ],
   "source": [
    "# Вычисление метрик MSE и MAE\n",
    "mse = mean_squared_error(y[-4:], forecast.predicted_mean)\n",
    "mae = mean_absolute_error(y[-4:], forecast.predicted_mean)\n",
    "\n",
    "print(\"MSE:\", mse)\n",
    "print(\"MAE:\", mae)"
   ]
  },
  {
   "cell_type": "markdown",
   "metadata": {},
   "source": [
    "### Тест на автокорреляцию"
   ]
  },
  {
   "cell_type": "code",
   "execution_count": 100,
   "metadata": {
    "scrolled": true
   },
   "outputs": [
    {
     "data": {
      "text/html": [
       "<div>\n",
       "<style scoped>\n",
       "    .dataframe tbody tr th:only-of-type {\n",
       "        vertical-align: middle;\n",
       "    }\n",
       "\n",
       "    .dataframe tbody tr th {\n",
       "        vertical-align: top;\n",
       "    }\n",
       "\n",
       "    .dataframe thead th {\n",
       "        text-align: right;\n",
       "    }\n",
       "</style>\n",
       "<table border=\"1\" class=\"dataframe\">\n",
       "  <thead>\n",
       "    <tr style=\"text-align: right;\">\n",
       "      <th></th>\n",
       "      <th>lb_stat</th>\n",
       "      <th>lb_pvalue</th>\n",
       "    </tr>\n",
       "  </thead>\n",
       "  <tbody>\n",
       "    <tr>\n",
       "      <th>10</th>\n",
       "      <td>8.613027</td>\n",
       "      <td>0.569179</td>\n",
       "    </tr>\n",
       "  </tbody>\n",
       "</table>\n",
       "</div>"
      ],
      "text/plain": [
       "     lb_stat  lb_pvalue\n",
       "10  8.613027   0.569179"
      ]
     },
     "execution_count": 100,
     "metadata": {},
     "output_type": "execute_result"
    }
   ],
   "source": [
    "acorr_ljungbox(results.resid**2, lags=[10], return_df=True)"
   ]
  },
  {
   "cell_type": "code",
   "execution_count": 99,
   "metadata": {
    "scrolled": true
   },
   "outputs": [
    {
     "name": "stdout",
     "output_type": "stream",
     "text": [
      "Log-Likelihood: 0.0\n"
     ]
    }
   ],
   "source": [
    "# Вывод статистики логарифмического правдоподобия\n",
    "print(f'Log-Likelihood: {results.llf}')"
   ]
  },
  {
   "cell_type": "markdown",
   "metadata": {},
   "source": [
    "#### Проверка адекватности модели. Статистика Харке-Бера"
   ]
  },
  {
   "cell_type": "code",
   "execution_count": 101,
   "metadata": {},
   "outputs": [
    {
     "name": "stdout",
     "output_type": "stream",
     "text": [
      "Значение статистики Jarque-Bera: 0.8750648307414919, p-value: 0.6456275978307423\n"
     ]
    },
    {
     "data": {
      "image/png": "[encoded data removed]",
      "text/plain": [
       "<Figure size 1500x600 with 2 Axes>"
      ]
     },
     "metadata": {},
     "output_type": "display_data"
    }
   ],
   "source": [
    "# Визуализация остатков\n",
    "residuals = results.resid\n",
    "fig, ax = plt.subplots(1,2, figsize=(15, 6))\n",
    "ax[0].plot(residuals)\n",
    "ax[0].set_title('Остатки модели')\n",
    "sm.qqplot(residuals, line='s', ax=ax[1])  # Q-Q график для остатков\n",
    "plt.tight_layout()\n",
    "\n",
    "# Проверка на нормальность остатков\n",
    "from scipy import stats\n",
    "jb_test = stats.jarque_bera(residuals)\n",
    "print(f\"Значение статистики Jarque-Bera: {jb_test[0]}, p-value: {jb_test[1]}\")\n"
   ]
  },
  {
   "cell_type": "markdown",
   "metadata": {},
   "source": [
    "Если значение p-value (второе значение в выводе Jarque-Bera теста) меньше выбранного уровня значимости (обычно 0.05), то гипотеза о нормальности распределения остатков отклоняется. Необходимо убедиться, что остатки имеют нормальное распределение, для того чтобы модель считалась адекватной."
   ]
  },
  {
   "cell_type": "markdown",
   "metadata": {},
   "source": [
    "### Проверка адекватности модели. Статистика Дарбина-Уотсона"
   ]
  },
  {
   "cell_type": "code",
   "execution_count": 102,
   "metadata": {},
   "outputs": [
    {
     "name": "stdout",
     "output_type": "stream",
     "text": [
      "Статистика Дарбина-Уотсона: 0.10520372502416642\n"
     ]
    }
   ],
   "source": [
    "from statsmodels.stats.stattools import durbin_watson\n",
    "\n",
    "# Вычисляем статистику Дарбина-Уотсона для остатков\n",
    "dw_statistic = durbin_watson(residuals)\n",
    "print(f\"Статистика Дарбина-Уотсона: {dw_statistic}\")\n"
   ]
  },
  {
   "cell_type": "markdown",
   "metadata": {},
   "source": [
    "Значение статистики Дарбина-Уотсона близко к 2 указывает на отсутствие (нулевую) автокорреляцию остатков. Значения меньше 2 могут указывать на положительную автокорреляцию, значения больше 2 - на отрицательную."
   ]
  },
  {
   "cell_type": "markdown",
   "metadata": {},
   "source": [
    "#### Проверка адекватности модели SARIMAX. Тест Льюнга-бокса"
   ]
  },
  {
   "cell_type": "code",
   "execution_count": 104,
   "metadata": {},
   "outputs": [
    {
     "name": "stdout",
     "output_type": "stream",
     "text": [
      "     lb_stat  lb_pvalue\n",
      "10  6.408862   0.779823\n"
     ]
    }
   ],
   "source": [
    "from statsmodels.stats.diagnostic import acorr_ljungbox\n",
    "\n",
    "# Проводим Ljung-Box тест\n",
    "lb_test = acorr_ljungbox(residuals, lags=[10], return_df=True)\n",
    "print(lb_test)\n"
   ]
  },
  {
   "cell_type": "markdown",
   "metadata": {},
   "source": [
    "p-value теста Ljung-Box больше уровня значимости (например, 0.05), значит, нет статистически значимой автокорреляции остатков в модели. В таком случае модель может потребовать дополнительной настройки."
   ]
  },
  {
   "cell_type": "markdown",
   "metadata": {},
   "source": [
    "### Датасет: 28-40 Импорт продукции химической промышленности, каучука"
   ]
  },
  {
   "cell_type": "code",
   "execution_count": 22,
   "metadata": {},
   "outputs": [
    {
     "name": "stdout",
     "output_type": "stream",
     "text": [
      "                                                           SARIMAX Results                                                           \n",
      "=====================================================================================================================================\n",
      "Dep. Variable:     28-40 Импорт продукции химической промышленности, каучука, млн. долл. США   No. Observations:                   11\n",
      "Model:                                                                  SARIMAX(0, 1, 0, 12)   Log Likelihood                   0.000\n",
      "Date:                                                                       Fri, 03 May 2024   AIC                             10.000\n",
      "Time:                                                                               09:22:18   BIC                                nan\n",
      "Sample:                                                                                    0   HQIC                               nan\n",
      "                                                                                        - 11                                         \n",
      "Covariance Type:                                                                         opg                                         \n",
      "=================================================================================================================================\n",
      "                                                                    coef    std err          z      P>|z|      [0.025      0.975]\n",
      "---------------------------------------------------------------------------------------------------------------------------------\n",
      "const                                                                  0         -0        nan        nan           0           0\n",
      "Оборот средних организаций по субъектам РФ, млрд. руб.                 0         -0        nan        nan           0           0\n",
      "Индекс промышленного производства, в%                                  0         -0        nan        nan           0           0\n",
      "Средняя доля импорта отдельных товаров в их товарных ресурсах          0         -0        nan        nan           0           0\n",
      "sigma2                                                             1e-10         -0       -inf      0.000       1e-10       1e-10\n",
      "===================================================================================\n",
      "Ljung-Box (L1) (Q):                    nan   Jarque-Bera (JB):                  nan\n",
      "Prob(Q):                               nan   Prob(JB):                          nan\n",
      "Heteroskedasticity (H):                nan   Skew:                              nan\n",
      "Prob(H) (two-sided):                   nan   Kurtosis:                          nan\n",
      "===================================================================================\n",
      "\n",
      "Warnings:\n",
      "[1] Covariance matrix calculated using the outer product of gradients (complex-step).\n",
      "[2] Covariance matrix is singular or near-singular, with condition number    inf. Standard errors may be unstable.\n",
      "Прогноз: 11        0.0\n",
      "12    42057.8\n",
      "13    43896.3\n",
      "14    45923.8\n",
      "Name: predicted_mean, dtype: float64\n"
     ]
    }
   ],
   "source": [
    "# Добавляем константу к независимым переменным для учета свободного члена (intercept) в модели\n",
    "X_with_const = sm.add_constant(X28_40)\n",
    "model = SARIMAX(y28_40, exog=X_with_const, order=(0,0,0), seasonal_order=(0,1,0,12))\n",
    "results = model.fit()\n",
    "\n",
    "# Вывод резюме модели\n",
    "print(results.summary())\n",
    "\n",
    "# Прогнозирование (замените steps на желаемое количество периодов для прогнозирования)\n",
    "forecast = results.get_forecast(steps=4, exog=X_with_const.iloc[-4:])\n",
    "print(\"Прогноз:\", forecast.predicted_mean)\n"
   ]
  },
  {
   "cell_type": "code",
   "execution_count": 26,
   "metadata": {},
   "outputs": [
    {
     "name": "stdout",
     "output_type": "stream",
     "text": [
      "MSE: 403699458.88288087\n",
      "MAE: 12469.399724999994\n"
     ]
    }
   ],
   "source": [
    "# Вычисление метрик MSE и MAE\n",
    "mse28_40 = mean_squared_error(y28_40[-4:], forecast.predicted_mean)\n",
    "mae28_40 = mean_absolute_error(y28_40[-4:], forecast.predicted_mean)\n",
    "\n",
    "print(\"MSE:\", mse28_40)\n",
    "print(\"MAE:\", mae28_40)"
   ]
  },
  {
   "cell_type": "markdown",
   "metadata": {},
   "source": [
    "#### Проверка адекватности модели. Статистика Харке-Бера"
   ]
  },
  {
   "cell_type": "code",
   "execution_count": 74,
   "metadata": {},
   "outputs": [
    {
     "name": "stdout",
     "output_type": "stream",
     "text": [
      "Значение статистики Jarque-Bera: 0.5532812979381843, p-value: 0.7583269537263804\n"
     ]
    },
    {
     "data": {
      "image/png": "[encoded data removed]",
      "text/plain": [
       "<Figure size 1500x600 with 2 Axes>"
      ]
     },
     "metadata": {},
     "output_type": "display_data"
    }
   ],
   "source": [
    "# Визуализация остатков\n",
    "residuals = results.resid\n",
    "fig, ax = plt.subplots(1,2, figsize=(15, 6))\n",
    "ax[0].plot(residuals)\n",
    "ax[0].set_title('Остатки модели')\n",
    "sm.qqplot(residuals, line='s', ax=ax[1])  # Q-Q график для остатков\n",
    "plt.tight_layout()\n",
    "\n",
    "# Проверка на нормальность остатков\n",
    "from scipy import stats\n",
    "jb_test = stats.jarque_bera(residuals)\n",
    "print(f\"Значение статистики Jarque-Bera: {jb_test[0]}, p-value: {jb_test[1]}\")"
   ]
  },
  {
   "cell_type": "markdown",
   "metadata": {},
   "source": [
    "#### Проверка адекватности модели. Статистика Дарбина-Утсона"
   ]
  },
  {
   "cell_type": "code",
   "execution_count": 75,
   "metadata": {},
   "outputs": [
    {
     "name": "stdout",
     "output_type": "stream",
     "text": [
      "Статистика Дарбина-Уотсона: 0.019084247162147957\n"
     ]
    }
   ],
   "source": [
    "from statsmodels.stats.stattools import durbin_watson\n",
    "\n",
    "# Вычисляем статистику Дарбина-Уотсона для остатков\n",
    "dw_statistic = durbin_watson(residuals)\n",
    "print(f\"Статистика Дарбина-Уотсона: {dw_statistic}\")\n"
   ]
  },
  {
   "cell_type": "markdown",
   "metadata": {},
   "source": [
    "#### Проверка адекватности модели SARIMAX. Тест Ljung-Box "
   ]
  },
  {
   "cell_type": "code",
   "execution_count": 76,
   "metadata": {},
   "outputs": [
    {
     "name": "stdout",
     "output_type": "stream",
     "text": [
      "      lb_stat  lb_pvalue\n",
      "10  11.680743   0.306991\n"
     ]
    }
   ],
   "source": [
    "from statsmodels.stats.diagnostic import acorr_ljungbox\n",
    "\n",
    "# Проводим Ljung-Box тест\n",
    "lb_test = acorr_ljungbox(residuals, lags=[10], return_df=True)\n",
    "print(lb_test)\n"
   ]
  },
  {
   "cell_type": "markdown",
   "metadata": {},
   "source": [
    "### Датасет: 50-67 Импорт текстиля, текстильных изделий и обуви"
   ]
  },
  {
   "cell_type": "code",
   "execution_count": 27,
   "metadata": {},
   "outputs": [
    {
     "name": "stdout",
     "output_type": "stream",
     "text": [
      "                                                       SARIMAX Results                                                        \n",
      "==============================================================================================================================\n",
      "Dep. Variable:     50-67 Импорт текстиля, текстильных изделий и обуви, млн. долл. США   No. Observations:                   11\n",
      "Model:                                                           SARIMAX(0, 1, 0, 12)   Log Likelihood                   0.000\n",
      "Date:                                                                Fri, 03 May 2024   AIC                             10.000\n",
      "Time:                                                                        09:24:00   BIC                                nan\n",
      "Sample:                                                                             0   HQIC                               nan\n",
      "                                                                                 - 11                                         \n",
      "Covariance Type:                                                                  opg                                         \n",
      "=================================================================================================================================\n",
      "                                                                    coef    std err          z      P>|z|      [0.025      0.975]\n",
      "---------------------------------------------------------------------------------------------------------------------------------\n",
      "const                                                                  0         -0        nan        nan           0           0\n",
      "Оборот средних организаций по субъектам РФ, млрд. руб.                 0         -0        nan        nan           0           0\n",
      "Индекс промышленного производства, в%                                  0         -0        nan        nan           0           0\n",
      "Средняя доля импорта отдельных товаров в их товарных ресурсах          0         -0        nan        nan           0           0\n",
      "sigma2                                                             1e-10         -0       -inf      0.000       1e-10       1e-10\n",
      "===================================================================================\n",
      "Ljung-Box (L1) (Q):                    nan   Jarque-Bera (JB):                  nan\n",
      "Prob(Q):                               nan   Prob(JB):                          nan\n",
      "Heteroskedasticity (H):                nan   Skew:                              nan\n",
      "Prob(H) (two-sided):                   nan   Kurtosis:                          nan\n",
      "===================================================================================\n",
      "\n",
      "Warnings:\n",
      "[1] Covariance matrix calculated using the outer product of gradients (complex-step).\n",
      "[2] Covariance matrix is singular or near-singular, with condition number    inf. Standard errors may be unstable.\n",
      "Прогноз: 11        0.0000\n",
      "12    14499.2698\n",
      "13    14763.6323\n",
      "14    16027.3796\n",
      "Name: predicted_mean, dtype: float64\n"
     ]
    }
   ],
   "source": [
    "# Добавляем константу к независимым переменным для учета свободного члена (intercept) в модели\n",
    "X_with_const = sm.add_constant(X50_67)\n",
    "model = SARIMAX(y50_67, exog=X_with_const, order=(0,0,0), seasonal_order=(0,1,0,12))\n",
    "results = model.fit()\n",
    "\n",
    "# Вывод резюме модели\n",
    "print(results.summary())\n",
    "\n",
    "# Прогнозирование (замените steps на желаемое количество периодов для прогнозирования)\n",
    "forecast = results.get_forecast(steps=4, exog=X_with_const.iloc[-4:])\n",
    "print(\"Прогноз:\", forecast.predicted_mean)\n"
   ]
  },
  {
   "cell_type": "code",
   "execution_count": 28,
   "metadata": {},
   "outputs": [
    {
     "name": "stdout",
     "output_type": "stream",
     "text": [
      "MSE: 43604148.12622093\n",
      "MAE: 4463.0819\n"
     ]
    }
   ],
   "source": [
    "# Вычисление метрик MSE и MAE\n",
    "mse50_67 = mean_squared_error(y50_67[-4:], forecast.predicted_mean)\n",
    "mae50_67 = mean_absolute_error(y50_67[-4:], forecast.predicted_mean)\n",
    "\n",
    "print(\"MSE:\", mse50_67)\n",
    "print(\"MAE:\", mae50_67)"
   ]
  },
  {
   "cell_type": "markdown",
   "metadata": {},
   "source": [
    "#### Проверка адекватности модели. Статистика Харке-Бера"
   ]
  },
  {
   "cell_type": "code",
   "execution_count": 78,
   "metadata": {},
   "outputs": [
    {
     "name": "stdout",
     "output_type": "stream",
     "text": [
      "Значение статистики Jarque-Bera: 0.8555532293467436, p-value: 0.6519570361687599\n"
     ]
    },
    {
     "data": {
      "image/png": "[encoded data removed]",
      "text/plain": [
       "<Figure size 1500x600 with 2 Axes>"
      ]
     },
     "metadata": {},
     "output_type": "display_data"
    }
   ],
   "source": [
    "# Визуализация остатков\n",
    "residuals = results.resid\n",
    "fig, ax = plt.subplots(1,2, figsize=(15, 6))\n",
    "ax[0].plot(residuals)\n",
    "ax[0].set_title('Остатки модели')\n",
    "sm.qqplot(residuals, line='s', ax=ax[1])  # Q-Q график для остатков\n",
    "plt.tight_layout()\n",
    "\n",
    "# Проверка на нормальность остатков\n",
    "from scipy import stats\n",
    "jb_test = stats.jarque_bera(residuals)\n",
    "print(f\"Значение статистики Jarque-Bera: {jb_test[0]}, p-value: {jb_test[1]}\")"
   ]
  },
  {
   "cell_type": "markdown",
   "metadata": {},
   "source": [
    "#### Проверка адекватности модели. Статистика дарбина-Уотсона"
   ]
  },
  {
   "cell_type": "code",
   "execution_count": 79,
   "metadata": {},
   "outputs": [
    {
     "name": "stdout",
     "output_type": "stream",
     "text": [
      "Статистика Дарбина-Уотсона: 0.0201000005618744\n"
     ]
    }
   ],
   "source": [
    "from statsmodels.stats.stattools import durbin_watson\n",
    "\n",
    "# Вычисляем статистику Дарбина-Уотсона для остатков\n",
    "dw_statistic = durbin_watson(residuals)\n",
    "print(f\"Статистика Дарбина-Уотсона: {dw_statistic}\")\n"
   ]
  },
  {
   "cell_type": "markdown",
   "metadata": {},
   "source": [
    "#### Проверка адекватности модели SARIMAX. Тест Ljung-Box "
   ]
  },
  {
   "cell_type": "code",
   "execution_count": 80,
   "metadata": {},
   "outputs": [
    {
     "name": "stdout",
     "output_type": "stream",
     "text": [
      "      lb_stat  lb_pvalue\n",
      "10  11.624438   0.310977\n"
     ]
    }
   ],
   "source": [
    "from statsmodels.stats.diagnostic import acorr_ljungbox\n",
    "\n",
    "# Проводим Ljung-Box тест\n",
    "lb_test = acorr_ljungbox(residuals, lags=[10], return_df=True)\n",
    "print(lb_test)\n"
   ]
  },
  {
   "cell_type": "markdown",
   "metadata": {},
   "source": [
    "### Датасет: 72-83 Импорт металлов и изделий из них"
   ]
  },
  {
   "cell_type": "code",
   "execution_count": 29,
   "metadata": {},
   "outputs": [
    {
     "name": "stdout",
     "output_type": "stream",
     "text": [
      "                                                 SARIMAX Results                                                  \n",
      "==================================================================================================================\n",
      "Dep. Variable:     72-83 Импорт металлов и изделий из них, млн. долл. США   No. Observations:                   11\n",
      "Model:                                               SARIMAX(0, 1, 0, 12)   Log Likelihood                   0.000\n",
      "Date:                                                    Fri, 03 May 2024   AIC                             10.000\n",
      "Time:                                                            09:24:45   BIC                                nan\n",
      "Sample:                                                                 0   HQIC                               nan\n",
      "                                                                     - 11                                         \n",
      "Covariance Type:                                                      opg                                         \n",
      "=================================================================================================================================\n",
      "                                                                    coef    std err          z      P>|z|      [0.025      0.975]\n",
      "---------------------------------------------------------------------------------------------------------------------------------\n",
      "const                                                                  0         -0        nan        nan           0           0\n",
      "Оборот средних организаций по субъектам РФ, млрд. руб.                 0         -0        nan        nan           0           0\n",
      "Индекс промышленного производства, в%                                  0         -0        nan        nan           0           0\n",
      "Средняя доля импорта отдельных товаров в их товарных ресурсах          0         -0        nan        nan           0           0\n",
      "sigma2                                                             1e-10         -0       -inf      0.000       1e-10       1e-10\n",
      "===================================================================================\n",
      "Ljung-Box (L1) (Q):                    nan   Jarque-Bera (JB):                  nan\n",
      "Prob(Q):                               nan   Prob(JB):                          nan\n",
      "Heteroskedasticity (H):                nan   Skew:                              nan\n",
      "Prob(H) (two-sided):                   nan   Kurtosis:                          nan\n",
      "===================================================================================\n",
      "\n",
      "Warnings:\n",
      "[1] Covariance matrix calculated using the outer product of gradients (complex-step).\n",
      "[2] Covariance matrix is singular or near-singular, with condition number    inf. Standard errors may be unstable.\n",
      "Прогноз: 11        0.0000\n",
      "12    15354.8816\n",
      "13    15305.4663\n",
      "14    15642.3974\n",
      "Name: predicted_mean, dtype: float64\n"
     ]
    }
   ],
   "source": [
    "# Добавляем константу к независимым переменным для учета свободного члена (intercept) в модели\n",
    "X_with_const = sm.add_constant(X72_83)\n",
    "model = SARIMAX(y72_83, exog=X_with_const, order=(0,0,0), seasonal_order=(0,1,0,12))\n",
    "results = model.fit()\n",
    "\n",
    "# Вывод резюме модели\n",
    "print(results.summary())\n",
    "\n",
    "# Прогнозирование (замените steps на желаемое количество периодов для прогнозирования)\n",
    "forecast = results.get_forecast(steps=4, exog=X_with_const.iloc[-4:])\n",
    "print(\"Прогноз:\", forecast.predicted_mean)\n"
   ]
  },
  {
   "cell_type": "code",
   "execution_count": 30,
   "metadata": {},
   "outputs": [
    {
     "name": "stdout",
     "output_type": "stream",
     "text": [
      "MSE: 42322434.65041726\n",
      "MAE: 4499.540925000001\n"
     ]
    }
   ],
   "source": [
    "# Вычисление метрик MSE и MAE\n",
    "mse72_83 = mean_squared_error(y72_83[-4:], forecast.predicted_mean)\n",
    "mae72_83 = mean_absolute_error(y72_83[-4:], forecast.predicted_mean)\n",
    "\n",
    "print(\"MSE:\", mse72_83)\n",
    "print(\"MAE:\", mae72_83)"
   ]
  },
  {
   "cell_type": "markdown",
   "metadata": {},
   "source": [
    "#### Проверка адекватности модели SARIMAX. Тест Харке-Бера"
   ]
  },
  {
   "cell_type": "code",
   "execution_count": 82,
   "metadata": {},
   "outputs": [
    {
     "name": "stdout",
     "output_type": "stream",
     "text": [
      "Значение статистики Jarque-Bera: 1.1162852371669993, p-value: 0.5722710028565379\n"
     ]
    },
    {
     "data": {
      "image/png": "[encoded data removed]",
      "text/plain": [
       "<Figure size 1500x600 with 2 Axes>"
      ]
     },
     "metadata": {},
     "output_type": "display_data"
    }
   ],
   "source": [
    "# Визуализация остатков\n",
    "residuals = results.resid\n",
    "fig, ax = plt.subplots(1,2, figsize=(15, 6))\n",
    "ax[0].plot(residuals)\n",
    "ax[0].set_title('Остатки модели')\n",
    "sm.qqplot(residuals, line='s', ax=ax[1])  # Q-Q график для остатков\n",
    "plt.tight_layout()\n",
    "\n",
    "# Проверка на нормальность остатков\n",
    "from scipy import stats\n",
    "jb_test = stats.jarque_bera(residuals)\n",
    "print(f\"Значение статистики Jarque-Bera: {jb_test[0]}, p-value: {jb_test[1]}\")"
   ]
  },
  {
   "cell_type": "markdown",
   "metadata": {},
   "source": [
    "#### Проверка адекватности модели SARIMAX. Статистика Дарбина-Уотсона"
   ]
  },
  {
   "cell_type": "code",
   "execution_count": 83,
   "metadata": {},
   "outputs": [
    {
     "name": "stdout",
     "output_type": "stream",
     "text": [
      "Статистика Дарбина-Уотсона: 0.024527084068694326\n"
     ]
    }
   ],
   "source": [
    "from statsmodels.stats.stattools import durbin_watson\n",
    "\n",
    "# Вычисляем статистику Дарбина-Уотсона для остатков\n",
    "dw_statistic = durbin_watson(residuals)\n",
    "print(f\"Статистика Дарбина-Уотсона: {dw_statistic}\")\n"
   ]
  },
  {
   "cell_type": "markdown",
   "metadata": {},
   "source": [
    "#### Проверка адекватности модели SARIMAX. Тест Ljung-Box "
   ]
  },
  {
   "cell_type": "code",
   "execution_count": 84,
   "metadata": {},
   "outputs": [
    {
     "name": "stdout",
     "output_type": "stream",
     "text": [
      "      lb_stat  lb_pvalue\n",
      "10  14.643428   0.145613\n"
     ]
    }
   ],
   "source": [
    "from statsmodels.stats.diagnostic import acorr_ljungbox\n",
    "\n",
    "# Проводим Ljung-Box тест\n",
    "lb_test = acorr_ljungbox(residuals, lags=[10], return_df=True)\n",
    "print(lb_test)\n"
   ]
  }
 ],
 "metadata": {
  "kernelspec": {
   "display_name": "Python 3 (ipykernel)",
   "language": "python",
   "name": "python3"
  },
  "language_info": {
   "codemirror_mode": {
    "name": "ipython",
    "version": 3
   },
   "file_extension": ".py",
   "mimetype": "text/x-python",
   "name": "python",
   "nbconvert_exporter": "python",
   "pygments_lexer": "ipython3",
   "version": "3.11.4"
  }
 },
 "nbformat": 4,
 "nbformat_minor": 4
}
